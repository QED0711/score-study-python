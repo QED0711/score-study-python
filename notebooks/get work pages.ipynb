{
 "cells": [
  {
   "cell_type": "code",
   "execution_count": 1,
   "metadata": {
    "ExecuteTime": {
     "end_time": "2019-09-24T23:55:35.789289Z",
     "start_time": "2019-09-24T23:55:35.270577Z"
    }
   },
   "outputs": [],
   "source": [
    "import sys\n",
    "sys.path.append(\"../utils/\")\n",
    "\n",
    "import warnings\n",
    "warnings.filterwarnings('ignore')\n",
    "\n",
    "%load_ext autoreload\n",
    "%autoreload 1\n",
    "\n",
    "import requests\n",
    "from bs4 import BeautifulSoup\n",
    "\n",
    "from work_crawler import get_work_pages, get_score_links, get_all_pdf_links\n",
    "\n",
    "%aimport work_crawler"
   ]
  },
  {
   "cell_type": "code",
   "execution_count": 3,
   "metadata": {
    "ExecuteTime": {
     "end_time": "2019-09-25T00:01:06.159517Z",
     "start_time": "2019-09-25T00:01:06.154196Z"
    }
   },
   "outputs": [],
   "source": [
    "mozart = \"https://imslp.org/index.php?title=Category:Mozart%2C%20Wolfgang%20Amadeus&customcat=ccperson1\"\n",
    "bach = 'https://imslp.org/index.php?title=Category:Bach%2C%20Johann%20Sebastian&customcat=ccperson1'\n",
    "beethoven = 'https://imslp.org/index.php?title=Category:Beethoven%2C%20Ludwig%20van&customcat=ccperson1'"
   ]
  },
  {
   "cell_type": "code",
   "execution_count": 9,
   "metadata": {
    "ExecuteTime": {
     "end_time": "2019-09-25T00:10:55.428172Z",
     "start_time": "2019-09-25T00:10:49.206045Z"
    }
   },
   "outputs": [],
   "source": [
    "works_df = get_work_pages(mozart)[[\"Page Name\", \"Year\", \"composer\", \"link\"]]"
   ]
  },
  {
   "cell_type": "code",
   "execution_count": 10,
   "metadata": {
    "ExecuteTime": {
     "end_time": "2019-09-25T00:10:55.433572Z",
     "start_time": "2019-09-25T00:10:55.429938Z"
    }
   },
   "outputs": [
    {
     "data": {
      "text/plain": [
       "(737, 4)"
      ]
     },
     "execution_count": 10,
     "metadata": {},
     "output_type": "execute_result"
    }
   ],
   "source": [
    "works_df.shape"
   ]
  },
  {
   "cell_type": "code",
   "execution_count": 11,
   "metadata": {
    "ExecuteTime": {
     "end_time": "2019-09-25T00:10:55.462913Z",
     "start_time": "2019-09-25T00:10:55.435813Z"
    }
   },
   "outputs": [],
   "source": [
    "url = works_df.to_dict(orient=\"records\")[250][\"link\"]"
   ]
  },
  {
   "cell_type": "markdown",
   "metadata": {},
   "source": [
    "# GET SCORE LINKS"
   ]
  },
  {
   "cell_type": "code",
   "execution_count": 12,
   "metadata": {
    "ExecuteTime": {
     "end_time": "2019-09-25T00:10:56.782692Z",
     "start_time": "2019-09-25T00:10:55.464611Z"
    }
   },
   "outputs": [],
   "source": [
    "complete_scores = get_score_links(url)"
   ]
  },
  {
   "cell_type": "code",
   "execution_count": 13,
   "metadata": {
    "ExecuteTime": {
     "end_time": "2019-09-25T00:10:56.788452Z",
     "start_time": "2019-09-25T00:10:56.784405Z"
    }
   },
   "outputs": [
    {
     "data": {
      "text/plain": [
       "['https://imslp.org/wiki/Special:ImagefromIndex/63848',\n",
       " 'https://imslp.org/wiki/Special:ImagefromIndex/139349']"
      ]
     },
     "execution_count": 13,
     "metadata": {},
     "output_type": "execute_result"
    }
   ],
   "source": [
    "complete_scores"
   ]
  },
  {
   "cell_type": "markdown",
   "metadata": {},
   "source": [
    "# GET PDF LINKS"
   ]
  },
  {
   "cell_type": "code",
   "execution_count": 14,
   "metadata": {
    "ExecuteTime": {
     "end_time": "2019-09-25T00:12:20.166525Z",
     "start_time": "2019-09-25T00:12:12.588910Z"
    }
   },
   "outputs": [
    {
     "data": {
      "text/plain": [
       "['http://conquest.imslp.info/files/imglnks/usimg/c/c2/IMSLP63848-PMLP130147-Mozart_Werke_Breitkopf_Serie_07_KV532.pdf']"
      ]
     },
     "execution_count": 14,
     "metadata": {},
     "output_type": "execute_result"
    }
   ],
   "source": [
    "get_all_pdf_links(complete_scores)"
   ]
  }
 ],
 "metadata": {
  "kernelspec": {
   "display_name": "Python 3",
   "language": "python",
   "name": "python3"
  },
  "language_info": {
   "codemirror_mode": {
    "name": "ipython",
    "version": 3
   },
   "file_extension": ".py",
   "mimetype": "text/x-python",
   "name": "python",
   "nbconvert_exporter": "python",
   "pygments_lexer": "ipython3",
   "version": "3.7.3"
  }
 },
 "nbformat": 4,
 "nbformat_minor": 2
}
