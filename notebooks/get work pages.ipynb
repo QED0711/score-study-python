{
 "cells": [
  {
   "cell_type": "code",
   "execution_count": 16,
   "metadata": {
    "ExecuteTime": {
     "end_time": "2019-09-23T22:53:47.827954Z",
     "start_time": "2019-09-23T22:53:47.820974Z"
    }
   },
   "outputs": [
    {
     "name": "stdout",
     "output_type": "stream",
     "text": [
      "The autoreload extension is already loaded. To reload it, use:\n",
      "  %reload_ext autoreload\n"
     ]
    }
   ],
   "source": [
    "import sys\n",
    "sys.path.append(\"../utils/\")\n",
    "\n",
    "%load_ext autoreload\n",
    "%autoreload 1\n",
    "\n",
    "import requests\n",
    "from bs4 import BeautifulSoup\n",
    "\n",
    "from work_crawler import get_work_pages\n",
    "\n",
    "%aimport work_crawler"
   ]
  },
  {
   "cell_type": "code",
   "execution_count": 2,
   "metadata": {
    "ExecuteTime": {
     "end_time": "2019-09-23T22:18:24.261388Z",
     "start_time": "2019-09-23T22:18:24.257951Z"
    }
   },
   "outputs": [],
   "source": [
    "mozart = \"https://imslp.org/index.php?title=Category:Mozart%2C%20Wolfgang%20Amadeus&customcat=ccperson1\""
   ]
  },
  {
   "cell_type": "code",
   "execution_count": 4,
   "metadata": {
    "ExecuteTime": {
     "end_time": "2019-09-23T22:20:45.870368Z",
     "start_time": "2019-09-23T22:20:43.615692Z"
    }
   },
   "outputs": [],
   "source": [
    "works_df = get_work_pages(mozart)"
   ]
  },
  {
   "cell_type": "code",
   "execution_count": 15,
   "metadata": {
    "ExecuteTime": {
     "end_time": "2019-09-23T22:35:57.858776Z",
     "start_time": "2019-09-23T22:35:57.849794Z"
    }
   },
   "outputs": [
    {
     "name": "stdout",
     "output_type": "stream",
     "text": [
      "https://imslp.org/wiki/Abendempfindung,_K.523_(Mozart,_Wolfgang_Amadeus)\n"
     ]
    }
   ],
   "source": [
    "print(works_df.to_dict(orient=\"records\")[0][\"link\"])"
   ]
  },
  {
   "cell_type": "markdown",
   "metadata": {},
   "source": [
    "# GET SCORE LINKS"
   ]
  },
  {
   "cell_type": "code",
   "execution_count": 44,
   "metadata": {
    "ExecuteTime": {
     "end_time": "2019-09-23T23:29:01.883759Z",
     "start_time": "2019-09-23T23:29:01.381431Z"
    }
   },
   "outputs": [],
   "source": [
    "url = \"https://imslp.org/wiki/Symphony_No.5,_Op.67_%28Beethoven,_Ludwig_van%29\"\n",
    "\n",
    "html = requests.get(url).content\n",
    "soup = BeautifulSoup(html)"
   ]
  },
  {
   "cell_type": "code",
   "execution_count": 56,
   "metadata": {
    "ExecuteTime": {
     "end_time": "2019-09-23T23:59:05.910615Z",
     "start_time": "2019-09-23T23:59:05.905688Z"
    }
   },
   "outputs": [],
   "source": [
    "def get_score_links(soup):\n",
    "    links = soup.find_all('a', {'class': 'external text'})\n",
    "\n",
    "    complete_scores = []\n",
    "\n",
    "    for link in links:\n",
    "        if link.text.lower().strip() in ['complete score']:\n",
    "            complete_scores.append(link.get('href'))\n",
    "            \n",
    "    return complete_scores"
   ]
  },
  {
   "cell_type": "code",
   "execution_count": 57,
   "metadata": {
    "ExecuteTime": {
     "end_time": "2019-09-23T23:59:31.938670Z",
     "start_time": "2019-09-23T23:59:31.898687Z"
    }
   },
   "outputs": [],
   "source": [
    "complete_scores = get_score_links(soup)"
   ]
  },
  {
   "cell_type": "markdown",
   "metadata": {},
   "source": [
    "# GET PDF LINKS"
   ]
  },
  {
   "cell_type": "code",
   "execution_count": 58,
   "metadata": {
    "ExecuteTime": {
     "end_time": "2019-09-23T23:59:36.039152Z",
     "start_time": "2019-09-23T23:59:36.035640Z"
    }
   },
   "outputs": [],
   "source": [
    "def get_pdf_links(url):\n",
    "    soup = BeautifulSoup(requests.get(url).content)\n",
    "    return soup.find(\"span\", {\"id\":\"sm_dl_wait\"})"
   ]
  },
  {
   "cell_type": "code",
   "execution_count": 59,
   "metadata": {
    "ExecuteTime": {
     "end_time": "2019-09-24T00:00:37.392831Z",
     "start_time": "2019-09-24T00:00:08.873699Z"
    }
   },
   "outputs": [
    {
     "name": "stdout",
     "output_type": "stream",
     "text": [
      "http://ks.petruccimusiclibrary.org/files/imglnks/usimg/4/4b/IMSLP46080-PMLP01586-Op.67_Manuscript.pdf\n",
      "http://imslp.simssa.ca/files/imglnks/usimg/0/0c/IMSLP52624-PMLP01586-Beethoven_Werke_Breitkopf_Serie_1_No_5_Op_67.pdf\n",
      "http://ks4.imslp.net/files/imglnks/usimg/9/9a/IMSLP575951-PMLP1586-Beethoven_-_Symphony_No_5_in_C_Minor,_Op_67_-_I_-_Allegro_con_brio_(etc).pdf\n",
      "http://ks.imslp.net/files/imglnks/usimg/5/59/IMSLP575952-PMLP1586-Beethoven_-_Symphony_No.5_Mvt.I_(ed._Unger)_(etc).pdf\n",
      "http://ks4.imslp.info/files/imglnks/usimg/d/d9/IMSLP22732-PMLP01586-Beethoven_Symphony5_arr_piano_4hands_vlvc_Score.pdf\n",
      "http://ks.petruccimusiclibrary.org/files/imglnks/usimg/0/07/IMSLP466210-PMLP1586-BeethovenGrisez_5thSymphony_Leduc.pdf\n",
      "http://ks.imslp.info/files/imglnks/usimg/5/5b/IMSLP114900-PMLP01586-Beethoven_Sinfonie_Nr._5_(Sitt)_Klavier.pdf\n",
      "http://ks4.imslp.info/files/imglnks/usimg/9/9b/IMSLP33489-PMLP01586-Beethoven-Op067p4hMeves.pdf\n",
      "http://ks4.imslp.net/files/imglnks/usimg/e/e8/IMSLP13622-Beethoven-Scharwenka_Symphonie_Nr.5_piano_4_hands.pdf\n",
      "http://ks.imslp.info/files/imglnks/usimg/6/66/IMSLP163238-PMLP01586-Beethoven_Symphonie_No5_Op067_Pf4h.pdf\n",
      "http://ks4.imslp.net/files/imglnks/usimg/a/a7/IMSLP161921-PMLP01586-Beethoven_Symphonie_5_Op067_Pf4h.pdf\n",
      "http://ks4.imslp.net/files/imglnks/usimg/d/d6/IMSLP192038-PMLP01586-Beethoven_-_067_-_Symphony_n.5_c_(2H_Pauer).pdf\n",
      "http://ks.imslp.info/files/imglnks/usimg/7/72/IMSLP33474-PMLP01586-Beethoven-Op067p2hSinger.pdf\n",
      "http://imslp.simssa.ca/files/imglnks/usimg/a/ae/IMSLP537919-PMLP869645-Lopez_Villanueva_A-Beethoven-Sinf_5_All_c_brio.pdf\n",
      "http://imslp.simssa.ca/files/imglnks/usimg/1/12/IMSLP99083-PMLP01586-Beethoven,_Lv,_Symphony_No.5,_Op.67,_1stMovem.ArrHarmPinoReinhard_CS.pdf\n",
      "http://conquest.imslp.info/files/imglnks/usimg/e/e7/IMSLP47672-PMLP01586-Beethoven_-_Piano_Trio_Andante_from_Sym_No5_piano.pdf\n",
      "http://ks4.imslp.net/files/imglnks/usimg/a/af/IMSLP90497-PMLP01586-8_Book3Book_3.pdf\n",
      "http://ks.imslp.info/files/imglnks/usimg/1/1d/IMSLP473267-PMLP01586-10._BEETHOVEN_ANDANTE_5e_symph.pdf\n",
      "http://imslp.simssa.ca/files/imglnks/usimg/7/7a/IMSLP381658-PMLP01586-Maylath_-_Transcription_-_Beethoven_-_Symphony_No.5_Op.67_-_Andante.pdf\n"
     ]
    }
   ],
   "source": [
    "for score in complete_scores:\n",
    "    score_id = score.split(\"/\")[-1]\n",
    "    current_url = \"https://imslp.org/wiki/Special:IMSLPDisclaimerAccept/\" + score_id\n",
    "    try:\n",
    "        print(get_pdf_links(current_url).get(\"data-id\"))\n",
    "    except:\n",
    "        continue\n",
    "    "
   ]
  }
 ],
 "metadata": {
  "kernelspec": {
   "display_name": "Python 3",
   "language": "python",
   "name": "python3"
  },
  "language_info": {
   "codemirror_mode": {
    "name": "ipython",
    "version": 3
   },
   "file_extension": ".py",
   "mimetype": "text/x-python",
   "name": "python",
   "nbconvert_exporter": "python",
   "pygments_lexer": "ipython3",
   "version": "3.7.3"
  }
 },
 "nbformat": 4,
 "nbformat_minor": 2
}
