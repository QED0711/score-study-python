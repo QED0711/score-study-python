{
 "cells": [
  {
   "cell_type": "code",
   "execution_count": 1,
   "metadata": {
    "ExecuteTime": {
     "end_time": "2019-09-24T17:29:12.934934Z",
     "start_time": "2019-09-24T17:29:12.637739Z"
    }
   },
   "outputs": [],
   "source": [
    "import sys\n",
    "sys.path.append(\"../utils/\")\n",
    "\n",
    "import warnings\n",
    "warnings.filterwarnings('ignore')\n",
    "\n",
    "%load_ext autoreload\n",
    "%autoreload 1\n",
    "\n",
    "import requests\n",
    "from bs4 import BeautifulSoup\n",
    "\n",
    "from work_crawler import get_work_pages, get_score_links, get_all_pdf_links\n",
    "\n",
    "%aimport work_crawler"
   ]
  },
  {
   "cell_type": "code",
   "execution_count": 24,
   "metadata": {
    "ExecuteTime": {
     "end_time": "2019-09-24T17:39:12.271486Z",
     "start_time": "2019-09-24T17:39:12.268681Z"
    }
   },
   "outputs": [],
   "source": [
    "mozart = \"https://imslp.org/index.php?title=Category:Mozart%2C%20Wolfgang%20Amadeus&customcat=ccperson1\"\n",
    "bach = 'https://imslp.org/index.php?title=Category:Bach%2C%20Johann%20Sebastian&customcat=ccperson1'\n",
    "beethoven = 'https://imslp.org/index.php?title=Category:Beethoven%2C%20Ludwig%20van&customcat=ccperson1'"
   ]
  },
  {
   "cell_type": "code",
   "execution_count": 34,
   "metadata": {
    "ExecuteTime": {
     "end_time": "2019-09-24T17:42:29.211857Z",
     "start_time": "2019-09-24T17:42:17.566550Z"
    }
   },
   "outputs": [],
   "source": [
    "works_df = get_work_pages(beethoven)[[\"Page Name\", \"Year\", \"composer\", \"link\"]]"
   ]
  },
  {
   "cell_type": "code",
   "execution_count": 36,
   "metadata": {
    "ExecuteTime": {
     "end_time": "2019-09-24T17:42:48.216641Z",
     "start_time": "2019-09-24T17:42:48.213997Z"
    }
   },
   "outputs": [
    {
     "data": {
      "text/plain": [
       "(338, 4)"
      ]
     },
     "execution_count": 36,
     "metadata": {},
     "output_type": "execute_result"
    }
   ],
   "source": [
    "works_df.shape"
   ]
  },
  {
   "cell_type": "code",
   "execution_count": 39,
   "metadata": {
    "ExecuteTime": {
     "end_time": "2019-09-24T17:59:13.956302Z",
     "start_time": "2019-09-24T17:59:13.952633Z"
    }
   },
   "outputs": [],
   "source": [
    "url = works_df.to_dict(orient=\"records\")[250][\"link\"]"
   ]
  },
  {
   "cell_type": "markdown",
   "metadata": {},
   "source": [
    "# GET SCORE LINKS"
   ]
  },
  {
   "cell_type": "code",
   "execution_count": 40,
   "metadata": {
    "ExecuteTime": {
     "end_time": "2019-09-24T17:59:17.572444Z",
     "start_time": "2019-09-24T17:59:17.260439Z"
    }
   },
   "outputs": [],
   "source": [
    "complete_scores = get_score_links(url)"
   ]
  },
  {
   "cell_type": "code",
   "execution_count": 41,
   "metadata": {
    "ExecuteTime": {
     "end_time": "2019-09-24T17:59:18.905139Z",
     "start_time": "2019-09-24T17:59:18.902376Z"
    }
   },
   "outputs": [
    {
     "data": {
      "text/plain": [
       "['https://imslp.org/wiki/Special:ImagefromIndex/274827',\n",
       " 'https://imslp.org/wiki/Special:ImagefromIndex/04764',\n",
       " 'https://imslp.org/wiki/Special:ImagefromIndex/90441',\n",
       " 'https://imslp.org/wiki/Special:ImagefromIndex/21938',\n",
       " 'https://imslp.org/wiki/Special:ImagefromIndex/13868',\n",
       " 'https://imslp.org/wiki/Special:ImagefromIndex/57097',\n",
       " 'https://imslp.org/wiki/Special:ImagefromIndex/25877']"
      ]
     },
     "execution_count": 41,
     "metadata": {},
     "output_type": "execute_result"
    }
   ],
   "source": [
    "complete_scores"
   ]
  },
  {
   "cell_type": "markdown",
   "metadata": {},
   "source": [
    "# GET PDF LINKS"
   ]
  },
  {
   "cell_type": "code",
   "execution_count": 42,
   "metadata": {
    "ExecuteTime": {
     "end_time": "2019-09-24T17:59:41.390272Z",
     "start_time": "2019-09-24T17:59:28.583450Z"
    }
   },
   "outputs": [
    {
     "name": "stdout",
     "output_type": "stream",
     "text": [
      "SUCCESS:\t https://imslp.org/wiki/Special:IMSLPDisclaimerAccept/274827\n",
      "SUCCESS:\t https://imslp.org/wiki/Special:IMSLPDisclaimerAccept/04764\n",
      "SUCCESS:\t https://imslp.org/wiki/Special:IMSLPDisclaimerAccept/90441\n",
      "SUCCESS:\t https://imslp.org/wiki/Special:IMSLPDisclaimerAccept/13868\n",
      "SUCCESS:\t https://imslp.org/wiki/Special:IMSLPDisclaimerAccept/57097\n",
      "SUCCESS:\t https://imslp.org/wiki/Special:IMSLPDisclaimerAccept/25877\n"
     ]
    },
    {
     "data": {
      "text/plain": [
       "['http://imslp.simssa.ca/files/imglnks/usimg/f/f0/IMSLP274827-PMLP05044-Quartet_op._74_No._10_-_Beethoven.pdf',\n",
       " 'http://ks.imslp.info/files/imglnks/usimg/0/02/IMSLP04764-Beethoven_-_String_Quartet_No.10_Dover.pdf',\n",
       " 'http://ks.petruccimusiclibrary.org/files/imglnks/usimg/3/36/IMSLP90441-PMLP05044-Opus_74.pdf',\n",
       " 'http://ks4.imslp.info/files/imglnks/usimg/c/c8/IMSLP13868-Beethoven_-_String_Quartet_No._10_(Arr._for_Piano_4_h.).pdf',\n",
       " 'http://ks4.imslp.info/files/imglnks/usimg/b/b6/IMSLP57097-PMLP05044-Beethoven_Quatuor_op74_piano_4_hands.pdf',\n",
       " 'http://ks.imslp.info/files/imglnks/usimg/7/7f/IMSLP25877-PMLP05044-Beethoven-Op074arPf,_Winkler.pdf']"
      ]
     },
     "execution_count": 42,
     "metadata": {},
     "output_type": "execute_result"
    }
   ],
   "source": [
    "get_all_pdf_links(complete_scores)"
   ]
  }
 ],
 "metadata": {
  "kernelspec": {
   "display_name": "Python 3",
   "language": "python",
   "name": "python3"
  },
  "language_info": {
   "codemirror_mode": {
    "name": "ipython",
    "version": 3
   },
   "file_extension": ".py",
   "mimetype": "text/x-python",
   "name": "python",
   "nbconvert_exporter": "python",
   "pygments_lexer": "ipython3",
   "version": "3.7.3"
  }
 },
 "nbformat": 4,
 "nbformat_minor": 2
}
