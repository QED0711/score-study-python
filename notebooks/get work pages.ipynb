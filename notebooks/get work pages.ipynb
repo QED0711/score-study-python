{
 "cells": [
  {
   "cell_type": "code",
   "execution_count": 1,
   "metadata": {
    "ExecuteTime": {
     "end_time": "2019-09-24T17:29:12.934934Z",
     "start_time": "2019-09-24T17:29:12.637739Z"
    }
   },
   "outputs": [],
   "source": [
    "import sys\n",
    "sys.path.append(\"../utils/\")\n",
    "\n",
    "import warnings\n",
    "warnings.filterwarnings('ignore')\n",
    "\n",
    "%load_ext autoreload\n",
    "%autoreload 1\n",
    "\n",
    "import requests\n",
    "from bs4 import BeautifulSoup\n",
    "\n",
    "from work_crawler import get_work_pages, get_score_links, get_all_pdf_links\n",
    "\n",
    "%aimport work_crawler"
   ]
  },
  {
   "cell_type": "code",
   "execution_count": 24,
   "metadata": {
    "ExecuteTime": {
     "end_time": "2019-09-24T17:39:12.271486Z",
     "start_time": "2019-09-24T17:39:12.268681Z"
    }
   },
   "outputs": [],
   "source": [
    "mozart = \"https://imslp.org/index.php?title=Category:Mozart%2C%20Wolfgang%20Amadeus&customcat=ccperson1\"\n",
    "bach = 'https://imslp.org/index.php?title=Category:Bach%2C%20Johann%20Sebastian&customcat=ccperson1'\n",
    "beethoven = 'https://imslp.org/index.php?title=Category:Beethoven%2C%20Ludwig%20van&customcat=ccperson1'"
   ]
  },
  {
   "cell_type": "code",
   "execution_count": 25,
   "metadata": {
    "ExecuteTime": {
     "end_time": "2019-09-24T17:39:14.051751Z",
     "start_time": "2019-09-24T17:39:12.884581Z"
    }
   },
   "outputs": [],
   "source": [
    "works_df = get_work_pages(beethoven)"
   ]
  },
  {
   "cell_type": "code",
   "execution_count": 26,
   "metadata": {
    "ExecuteTime": {
     "end_time": "2019-09-24T17:39:14.705297Z",
     "start_time": "2019-09-24T17:39:14.700688Z"
    }
   },
   "outputs": [
    {
     "name": "stdout",
     "output_type": "stream",
     "text": [
      "https://imslp.org/wiki/Des_Krieger's_Abschied,_WoO_143_(Beethoven,_Ludwig_van)\n"
     ]
    }
   ],
   "source": [
    "print(works_df.to_dict(orient=\"records\")[100][\"link\"])"
   ]
  },
  {
   "cell_type": "code",
   "execution_count": 27,
   "metadata": {
    "ExecuteTime": {
     "end_time": "2019-09-24T17:39:16.804089Z",
     "start_time": "2019-09-24T17:39:16.799885Z"
    }
   },
   "outputs": [],
   "source": [
    "url = works_df.to_dict(orient=\"records\")[100][\"link\"]"
   ]
  },
  {
   "cell_type": "markdown",
   "metadata": {},
   "source": [
    "# GET SCORE LINKS"
   ]
  },
  {
   "cell_type": "code",
   "execution_count": 28,
   "metadata": {
    "ExecuteTime": {
     "end_time": "2019-09-24T17:39:19.690838Z",
     "start_time": "2019-09-24T17:39:19.466701Z"
    }
   },
   "outputs": [],
   "source": [
    "html = requests.get(url).content\n",
    "soup = BeautifulSoup(html)"
   ]
  },
  {
   "cell_type": "code",
   "execution_count": 29,
   "metadata": {
    "ExecuteTime": {
     "end_time": "2019-09-24T17:39:20.516234Z",
     "start_time": "2019-09-24T17:39:20.511730Z"
    }
   },
   "outputs": [],
   "source": [
    "complete_scores = get_score_links(soup)"
   ]
  },
  {
   "cell_type": "code",
   "execution_count": 30,
   "metadata": {
    "ExecuteTime": {
     "end_time": "2019-09-24T17:39:21.594752Z",
     "start_time": "2019-09-24T17:39:21.592076Z"
    }
   },
   "outputs": [
    {
     "data": {
      "text/plain": [
       "['https://imslp.org/wiki/Special:ImagefromIndex/48006']"
      ]
     },
     "execution_count": 30,
     "metadata": {},
     "output_type": "execute_result"
    }
   ],
   "source": [
    "complete_scores"
   ]
  },
  {
   "cell_type": "markdown",
   "metadata": {},
   "source": [
    "# GET PDF LINKS"
   ]
  },
  {
   "cell_type": "code",
   "execution_count": 31,
   "metadata": {
    "ExecuteTime": {
     "end_time": "2019-09-24T17:39:24.551481Z",
     "start_time": "2019-09-24T17:39:24.194637Z"
    }
   },
   "outputs": [
    {
     "name": "stdout",
     "output_type": "stream",
     "text": [
      "SUCCESS:\t https://imslp.org/wiki/Special:IMSLPDisclaimerAccept/48006\n"
     ]
    },
    {
     "data": {
      "text/plain": [
       "['http://conquest.imslp.info/files/imglnks/usimg/7/7b/IMSLP48006-PMLP101707-Beethoven_Lieder_Peters_9535_Des_Kriegers_Abschied.pdf']"
      ]
     },
     "execution_count": 31,
     "metadata": {},
     "output_type": "execute_result"
    }
   ],
   "source": [
    "get_all_pdf_links(complete_scores)"
   ]
  }
 ],
 "metadata": {
  "kernelspec": {
   "display_name": "Python 3",
   "language": "python",
   "name": "python3"
  },
  "language_info": {
   "codemirror_mode": {
    "name": "ipython",
    "version": 3
   },
   "file_extension": ".py",
   "mimetype": "text/x-python",
   "name": "python",
   "nbconvert_exporter": "python",
   "pygments_lexer": "ipython3",
   "version": "3.7.3"
  }
 },
 "nbformat": 4,
 "nbformat_minor": 2
}
