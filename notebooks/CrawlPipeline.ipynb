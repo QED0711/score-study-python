{
 "cells": [
  {
   "cell_type": "code",
   "execution_count": 1,
   "metadata": {
    "ExecuteTime": {
     "end_time": "2019-09-25T18:22:04.095896Z",
     "start_time": "2019-09-25T18:22:03.755404Z"
    }
   },
   "outputs": [],
   "source": [
    "%load_ext autoreload\n",
    "%autoreload 1\n",
    "\n",
    "import sys\n",
    "sys.path.append('../utils')\n",
    "\n",
    "import pandas as pd\n",
    "\n",
    "from crawl_pipeline import CrawlPipeline\n",
    "from work_crawler import get_work_pages, get_score_links, get_all_pdf_links, save_to_mlab\n",
    "\n",
    "%aimport crawl_pipeline\n",
    "%aimport work_crawler"
   ]
  },
  {
   "cell_type": "code",
   "execution_count": 2,
   "metadata": {
    "ExecuteTime": {
     "end_time": "2019-09-25T18:22:04.198512Z",
     "start_time": "2019-09-25T18:22:04.196373Z"
    }
   },
   "outputs": [],
   "source": [
    "mozart = \"https://imslp.org/index.php?title=Category:Mozart%2C%20Wolfgang%20Amadeus&customcat=ccperson1\"\n",
    "bach = 'https://imslp.org/index.php?title=Category:Bach%2C%20Johann%20Sebastian&customcat=ccperson1'\n",
    "beethoven = 'https://imslp.org/index.php?title=Category:Beethoven%2C%20Ludwig%20van&customcat=ccperson1'"
   ]
  },
  {
   "cell_type": "code",
   "execution_count": 14,
   "metadata": {
    "ExecuteTime": {
     "end_time": "2019-09-25T18:55:04.818387Z",
     "start_time": "2019-09-25T18:55:04.694021Z"
    }
   },
   "outputs": [],
   "source": [
    "test_entry = {'work_name': 'Abendempfindung, K.523 (Mozart, Wolfgang Amadeus)',\n",
    " 'year': '1787 June 24, Vienna',\n",
    " 'composer': 'Mozart, Wolfgang Amadeus',\n",
    " 'work_page': 'https://imslp.org/wiki/Abendempfindung,_K.523_(Mozart,_Wolfgang_Amadeus)',\n",
    " 'pdfs': None}\n",
    "\n",
    "save_to_mlab(test_entry)"
   ]
  },
  {
   "cell_type": "markdown",
   "metadata": {},
   "source": [
    "# Initialization\n",
    "initialize the CrawlPipeline with a starting chart page for a given composer\n",
    "\n",
    "The sequence of events follows:\n",
    "\n",
    "1. all links to work pages are gathered from the chart page(s)\n",
    "2. Information about is work is processed and placed in a pandas DataFrame"
   ]
  },
  {
   "cell_type": "code",
   "execution_count": 11,
   "metadata": {
    "ExecuteTime": {
     "end_time": "2019-09-25T18:30:53.934969Z",
     "start_time": "2019-09-25T18:30:48.749514Z"
    }
   },
   "outputs": [],
   "source": [
    "cp = CrawlPipeline(mozart)"
   ]
  },
  {
   "cell_type": "code",
   "execution_count": 12,
   "metadata": {
    "ExecuteTime": {
     "end_time": "2019-09-25T18:30:53.950103Z",
     "start_time": "2019-09-25T18:30:53.936214Z"
    }
   },
   "outputs": [
    {
     "data": {
      "text/html": [
       "<div>\n",
       "<style scoped>\n",
       "    .dataframe tbody tr th:only-of-type {\n",
       "        vertical-align: middle;\n",
       "    }\n",
       "\n",
       "    .dataframe tbody tr th {\n",
       "        vertical-align: top;\n",
       "    }\n",
       "\n",
       "    .dataframe thead th {\n",
       "        text-align: right;\n",
       "    }\n",
       "</style>\n",
       "<table border=\"1\" class=\"dataframe\">\n",
       "  <thead>\n",
       "    <tr style=\"text-align: right;\">\n",
       "      <th></th>\n",
       "      <th>work_name</th>\n",
       "      <th>year</th>\n",
       "      <th>composer</th>\n",
       "      <th>work_page</th>\n",
       "      <th>pdfs</th>\n",
       "    </tr>\n",
       "  </thead>\n",
       "  <tbody>\n",
       "    <tr>\n",
       "      <th>0</th>\n",
       "      <td>Abendempfindung, K.523 (Mozart, Wolfgang Amadeus)</td>\n",
       "      <td>1787 June 24, Vienna</td>\n",
       "      <td>Mozart, Wolfgang Amadeus</td>\n",
       "      <td>https://imslp.org/wiki/Abendempfindung,_K.523_...</td>\n",
       "      <td>None</td>\n",
       "    </tr>\n",
       "    <tr>\n",
       "      <th>1</th>\n",
       "      <td>Abendruhe, K.Anh.C 9.10 (Mozart, Wolfgang Amad...</td>\n",
       "      <td>-</td>\n",
       "      <td>Mozart, Wolfgang Amadeus</td>\n",
       "      <td>https://imslp.org/wiki/Abendruhe,_K.Anh.C_9.10...</td>\n",
       "      <td>None</td>\n",
       "    </tr>\n",
       "    <tr>\n",
       "      <th>2</th>\n",
       "      <td>Adagio and Allegro in F minor, K.594 (Mozart, ...</td>\n",
       "      <td>1790</td>\n",
       "      <td>Mozart, Wolfgang Amadeus</td>\n",
       "      <td>https://imslp.org/wiki/Adagio_and_Allegro_in_F...</td>\n",
       "      <td>None</td>\n",
       "    </tr>\n",
       "    <tr>\n",
       "      <th>3</th>\n",
       "      <td>Adagio and Fugue in C minor, K.546 (Mozart, Wo...</td>\n",
       "      <td>1788</td>\n",
       "      <td>Mozart, Wolfgang Amadeus</td>\n",
       "      <td>https://imslp.org/wiki/Adagio_and_Fugue_in_C_m...</td>\n",
       "      <td>None</td>\n",
       "    </tr>\n",
       "    <tr>\n",
       "      <th>4</th>\n",
       "      <td>Adagio and Menuett, K.Anh.34 (Mozart, Wolfgang...</td>\n",
       "      <td>-</td>\n",
       "      <td>Mozart, Wolfgang Amadeus</td>\n",
       "      <td>https://imslp.org/wiki/Adagio_and_Menuett,_K.A...</td>\n",
       "      <td>None</td>\n",
       "    </tr>\n",
       "  </tbody>\n",
       "</table>\n",
       "</div>"
      ],
      "text/plain": [
       "                                           work_name                  year  \\\n",
       "0  Abendempfindung, K.523 (Mozart, Wolfgang Amadeus)  1787 June 24, Vienna   \n",
       "1  Abendruhe, K.Anh.C 9.10 (Mozart, Wolfgang Amad...                     -   \n",
       "2  Adagio and Allegro in F minor, K.594 (Mozart, ...                  1790   \n",
       "3  Adagio and Fugue in C minor, K.546 (Mozart, Wo...                  1788   \n",
       "4  Adagio and Menuett, K.Anh.34 (Mozart, Wolfgang...                     -   \n",
       "\n",
       "                   composer  \\\n",
       "0  Mozart, Wolfgang Amadeus   \n",
       "1  Mozart, Wolfgang Amadeus   \n",
       "2  Mozart, Wolfgang Amadeus   \n",
       "3  Mozart, Wolfgang Amadeus   \n",
       "4  Mozart, Wolfgang Amadeus   \n",
       "\n",
       "                                           work_page  pdfs  \n",
       "0  https://imslp.org/wiki/Abendempfindung,_K.523_...  None  \n",
       "1  https://imslp.org/wiki/Abendruhe,_K.Anh.C_9.10...  None  \n",
       "2  https://imslp.org/wiki/Adagio_and_Allegro_in_F...  None  \n",
       "3  https://imslp.org/wiki/Adagio_and_Fugue_in_C_m...  None  \n",
       "4  https://imslp.org/wiki/Adagio_and_Menuett,_K.A...  None  "
      ]
     },
     "execution_count": 12,
     "metadata": {},
     "output_type": "execute_result"
    }
   ],
   "source": [
    "cp.works_df.head()"
   ]
  },
  {
   "cell_type": "code",
   "execution_count": 16,
   "metadata": {
    "ExecuteTime": {
     "end_time": "2019-09-25T18:56:38.581451Z",
     "start_time": "2019-09-25T18:56:23.413412Z"
    }
   },
   "outputs": [],
   "source": [
    "cp.get_work_pdfs(max_scores=1)"
   ]
  },
  {
   "cell_type": "code",
   "execution_count": null,
   "metadata": {
    "ExecuteTime": {
     "end_time": "2019-09-25T18:55:39.767402Z",
     "start_time": "2019-09-25T18:55:32.733Z"
    }
   },
   "outputs": [],
   "source": [
    "cp.works_df.head().iloc[0].to_dict()"
   ]
  }
 ],
 "metadata": {
  "kernelspec": {
   "display_name": "Python 3",
   "language": "python",
   "name": "python3"
  },
  "language_info": {
   "codemirror_mode": {
    "name": "ipython",
    "version": 3
   },
   "file_extension": ".py",
   "mimetype": "text/x-python",
   "name": "python",
   "nbconvert_exporter": "python",
   "pygments_lexer": "ipython3",
   "version": "3.7.3"
  }
 },
 "nbformat": 4,
 "nbformat_minor": 2
}
