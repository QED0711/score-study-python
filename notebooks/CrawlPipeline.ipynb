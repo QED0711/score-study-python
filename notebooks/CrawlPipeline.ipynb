{
 "cells": [
  {
   "cell_type": "code",
   "execution_count": 1,
   "metadata": {
    "ExecuteTime": {
     "end_time": "2019-09-25T18:22:04.095896Z",
     "start_time": "2019-09-25T18:22:03.755404Z"
    }
   },
   "outputs": [],
   "source": [
    "%load_ext autoreload\n",
    "%autoreload 1\n",
    "\n",
    "import sys\n",
    "sys.path.append('../utils')\n",
    "\n",
    "import pandas as pd\n",
    "\n",
    "from crawl_pipeline import CrawlPipeline\n",
    "from work_crawler import get_work_pages, get_score_links, get_all_pdf_links, save_to_mlab\n",
    "\n",
    "%aimport crawl_pipeline\n",
    "%aimport work_crawler"
   ]
  },
  {
   "cell_type": "code",
   "execution_count": null,
   "metadata": {},
   "outputs": [],
   "source": [
    "some dummy data"
   ]
  },
  {
   "cell_type": "code",
   "execution_count": 2,
   "metadata": {
    "ExecuteTime": {
     "end_time": "2019-09-25T18:22:04.198512Z",
     "start_time": "2019-09-25T18:22:04.196373Z"
    }
   },
   "outputs": [],
   "source": [
    "mozart = \"https://imslp.org/index.php?title=Category:Mozart%2C%20Wolfgang%20Amadeus&customcat=ccperson1\"\n",
    "bach = 'https://imslp.org/index.php?title=Category:Bach%2C%20Johann%20Sebastian&customcat=ccperson1'\n",
    "beethoven = 'https://imslp.org/index.php?title=Category:Beethoven%2C%20Ludwig%20van&customcat=ccperson1'"
   ]
  },
  {
   "cell_type": "markdown",
   "metadata": {},
   "source": [
    "# Initialization\n",
    "initialize the CrawlPipeline with a starting chart page for a given composer\n",
    "\n",
    "The sequence of events follows:\n",
    "\n",
    "1. all links to work pages are gathered from the chart page(s)\n",
    "2. Information about is work is processed and placed in a pandas DataFrame"
   ]
  },
  {
   "cell_type": "code",
   "execution_count": 18,
   "metadata": {
    "ExecuteTime": {
     "end_time": "2019-09-25T19:22:27.219299Z",
     "start_time": "2019-09-25T19:22:25.079250Z"
    }
   },
   "outputs": [],
   "source": [
    "cp = CrawlPipeline(beethoven)"
   ]
  },
  {
   "cell_type": "code",
   "execution_count": 19,
   "metadata": {
    "ExecuteTime": {
     "end_time": "2019-09-25T19:22:27.230027Z",
     "start_time": "2019-09-25T19:22:27.220526Z"
    }
   },
   "outputs": [
    {
     "data": {
      "text/html": [
       "<div>\n",
       "<style scoped>\n",
       "    .dataframe tbody tr th:only-of-type {\n",
       "        vertical-align: middle;\n",
       "    }\n",
       "\n",
       "    .dataframe tbody tr th {\n",
       "        vertical-align: top;\n",
       "    }\n",
       "\n",
       "    .dataframe thead th {\n",
       "        text-align: right;\n",
       "    }\n",
       "</style>\n",
       "<table border=\"1\" class=\"dataframe\">\n",
       "  <thead>\n",
       "    <tr style=\"text-align: right;\">\n",
       "      <th></th>\n",
       "      <th>work_name</th>\n",
       "      <th>year</th>\n",
       "      <th>composer</th>\n",
       "      <th>work_page</th>\n",
       "      <th>pdfs</th>\n",
       "    </tr>\n",
       "  </thead>\n",
       "  <tbody>\n",
       "    <tr>\n",
       "      <th>0</th>\n",
       "      <td>Abbé Stadler, WoO 178 (Beethoven, Ludwig van)</td>\n",
       "      <td>1820</td>\n",
       "      <td>Beethoven, Ludwig van</td>\n",
       "      <td>https://imslp.org/wiki/Abbé_Stadler,_WoO_178_(...</td>\n",
       "      <td>None</td>\n",
       "    </tr>\n",
       "    <tr>\n",
       "      <th>1</th>\n",
       "      <td>Abendlied unter'm gestirnten Himmel, WoO 150 (...</td>\n",
       "      <td>1820</td>\n",
       "      <td>Beethoven, Ludwig van</td>\n",
       "      <td>https://imslp.org/wiki/Abendlied_unter'm_gesti...</td>\n",
       "      <td>None</td>\n",
       "    </tr>\n",
       "    <tr>\n",
       "      <th>2</th>\n",
       "      <td>Abschiedsgesang an Wiens Bürger, WoO 121 (Beet...</td>\n",
       "      <td>1796</td>\n",
       "      <td>Beethoven, Ludwig van</td>\n",
       "      <td>https://imslp.org/wiki/Abschiedsgesang_an_Wien...</td>\n",
       "      <td>None</td>\n",
       "    </tr>\n",
       "    <tr>\n",
       "      <th>3</th>\n",
       "      <td>Abschiedsgesang, WoO 102 (Beethoven, Ludwig van)</td>\n",
       "      <td>1814</td>\n",
       "      <td>Beethoven, Ludwig van</td>\n",
       "      <td>https://imslp.org/wiki/Abschiedsgesang,_WoO_10...</td>\n",
       "      <td>None</td>\n",
       "    </tr>\n",
       "    <tr>\n",
       "      <th>4</th>\n",
       "      <td>Adagio for Mandolin and Harpsichord, WoO 43b (...</td>\n",
       "      <td>1796</td>\n",
       "      <td>Beethoven, Ludwig van</td>\n",
       "      <td>https://imslp.org/wiki/Adagio_for_Mandolin_and...</td>\n",
       "      <td>None</td>\n",
       "    </tr>\n",
       "  </tbody>\n",
       "</table>\n",
       "</div>"
      ],
      "text/plain": [
       "                                           work_name  year  \\\n",
       "0      Abbé Stadler, WoO 178 (Beethoven, Ludwig van)  1820   \n",
       "1  Abendlied unter'm gestirnten Himmel, WoO 150 (...  1820   \n",
       "2  Abschiedsgesang an Wiens Bürger, WoO 121 (Beet...  1796   \n",
       "3   Abschiedsgesang, WoO 102 (Beethoven, Ludwig van)  1814   \n",
       "4  Adagio for Mandolin and Harpsichord, WoO 43b (...  1796   \n",
       "\n",
       "                composer                                          work_page  \\\n",
       "0  Beethoven, Ludwig van  https://imslp.org/wiki/Abbé_Stadler,_WoO_178_(...   \n",
       "1  Beethoven, Ludwig van  https://imslp.org/wiki/Abendlied_unter'm_gesti...   \n",
       "2  Beethoven, Ludwig van  https://imslp.org/wiki/Abschiedsgesang_an_Wien...   \n",
       "3  Beethoven, Ludwig van  https://imslp.org/wiki/Abschiedsgesang,_WoO_10...   \n",
       "4  Beethoven, Ludwig van  https://imslp.org/wiki/Adagio_for_Mandolin_and...   \n",
       "\n",
       "   pdfs  \n",
       "0  None  \n",
       "1  None  \n",
       "2  None  \n",
       "3  None  \n",
       "4  None  "
      ]
     },
     "execution_count": 19,
     "metadata": {},
     "output_type": "execute_result"
    }
   ],
   "source": [
    "cp.works_df.head()"
   ]
  },
  {
   "cell_type": "markdown",
   "metadata": {},
   "source": [
    "# Scrape Data\n",
    "\n",
    "Visit each work page and find the all the scores. Find the pdf links and save all data to mlab"
   ]
  },
  {
   "cell_type": "code",
   "execution_count": 20,
   "metadata": {
    "ExecuteTime": {
     "end_time": "2019-09-25T19:23:59.234458Z",
     "start_time": "2019-09-25T19:22:50.615845Z"
    }
   },
   "outputs": [],
   "source": [
    "cp.get_work_pdfs(max_scores=10) # leave max scores out to do all scores"
   ]
  }
 ],
 "metadata": {
  "kernelspec": {
   "display_name": "Python 3",
   "language": "python",
   "name": "python3"
  },
  "language_info": {
   "codemirror_mode": {
    "name": "ipython",
    "version": 3
   },
   "file_extension": ".py",
   "mimetype": "text/x-python",
   "name": "python",
   "nbconvert_exporter": "python",
   "pygments_lexer": "ipython3",
   "version": "3.7.3"
  }
 },
 "nbformat": 4,
 "nbformat_minor": 2
}
