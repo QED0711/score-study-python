{
 "cells": [
  {
   "cell_type": "code",
   "execution_count": 1,
   "metadata": {
    "ExecuteTime": {
     "end_time": "2019-09-24T18:02:57.295087Z",
     "start_time": "2019-09-24T18:02:56.976686Z"
    }
   },
   "outputs": [],
   "source": [
    "%load_ext autoreload\n",
    "%autoreload 1\n",
    "\n",
    "import sys\n",
    "sys.path.append('../utils')\n",
    "\n",
    "from crawl_pipeline import CrawlPipeline\n",
    "from work_crawler import get_work_pages, get_score_links, get_all_pdf_links\n",
    "\n",
    "%aimport crawl_pipeline\n",
    "%aimport work_crawler"
   ]
  },
  {
   "cell_type": "code",
   "execution_count": 2,
   "metadata": {
    "ExecuteTime": {
     "end_time": "2019-09-24T18:02:57.488748Z",
     "start_time": "2019-09-24T18:02:57.486482Z"
    }
   },
   "outputs": [],
   "source": [
    "mozart = \"https://imslp.org/index.php?title=Category:Mozart%2C%20Wolfgang%20Amadeus&customcat=ccperson1\"\n",
    "bach = 'https://imslp.org/index.php?title=Category:Bach%2C%20Johann%20Sebastian&customcat=ccperson1'\n",
    "beethoven = 'https://imslp.org/index.php?title=Category:Beethoven%2C%20Ludwig%20van&customcat=ccperson1'"
   ]
  },
  {
   "cell_type": "code",
   "execution_count": 9,
   "metadata": {
    "ExecuteTime": {
     "end_time": "2019-09-24T18:06:02.383450Z",
     "start_time": "2019-09-24T18:06:02.369776Z"
    }
   },
   "outputs": [],
   "source": [
    "cp = CrawlPipeline(beethoven)"
   ]
  },
  {
   "cell_type": "code",
   "execution_count": 11,
   "metadata": {
    "ExecuteTime": {
     "end_time": "2019-09-24T18:06:41.751946Z",
     "start_time": "2019-09-24T18:06:22.705557Z"
    }
   },
   "outputs": [
    {
     "name": "stdout",
     "output_type": "stream",
     "text": [
      "SUCCESS:\t https://imslp.org/wiki/Special:IMSLPDisclaimerAccept/51475\n",
      "SUCCESS:\t https://imslp.org/wiki/Special:IMSLPDisclaimerAccept/48068\n",
      "SUCCESS:\t https://imslp.org/wiki/Special:IMSLPDisclaimerAccept/51458\n",
      "SUCCESS:\t https://imslp.org/wiki/Special:IMSLPDisclaimerAccept/47762\n",
      "SUCCESS:\t https://imslp.org/wiki/Special:IMSLPDisclaimerAccept/74128\n",
      "SUCCESS:\t https://imslp.org/wiki/Special:IMSLPDisclaimerAccept/07153\n",
      "SUCCESS:\t https://imslp.org/wiki/Special:IMSLPDisclaimerAccept/51135\n",
      "SUCCESS:\t https://imslp.org/wiki/Special:IMSLPDisclaimerAccept/424357\n",
      "SUCCESS:\t https://imslp.org/wiki/Special:IMSLPDisclaimerAccept/47232\n",
      "SUCCESS:\t https://imslp.org/wiki/Special:IMSLPDisclaimerAccept/15389\n",
      "SUCCESS:\t https://imslp.org/wiki/Special:IMSLPDisclaimerAccept/370441\n",
      "SUCCESS:\t https://imslp.org/wiki/Special:IMSLPDisclaimerAccept/459875\n",
      "SUCCESS:\t https://imslp.org/wiki/Special:IMSLPDisclaimerAccept/86074\n",
      "SUCCESS:\t https://imslp.org/wiki/Special:IMSLPDisclaimerAccept/54700\n",
      "SUCCESS:\t https://imslp.org/wiki/Special:IMSLPDisclaimerAccept/370927\n",
      "SUCCESS:\t https://imslp.org/wiki/Special:IMSLPDisclaimerAccept/26416\n",
      "SUCCESS:\t https://imslp.org/wiki/Special:IMSLPDisclaimerAccept/48279\n",
      "SUCCESS:\t https://imslp.org/wiki/Special:IMSLPDisclaimerAccept/106739\n"
     ]
    }
   ],
   "source": [
    "cp._create_works_df()\n",
    "cp.get_work_pdfs()"
   ]
  },
  {
   "cell_type": "code",
   "execution_count": 14,
   "metadata": {
    "ExecuteTime": {
     "end_time": "2019-09-24T18:09:58.689127Z",
     "start_time": "2019-09-24T18:09:58.679618Z"
    }
   },
   "outputs": [
    {
     "data": {
      "text/html": [
       "<div>\n",
       "<style scoped>\n",
       "    .dataframe tbody tr th:only-of-type {\n",
       "        vertical-align: middle;\n",
       "    }\n",
       "\n",
       "    .dataframe tbody tr th {\n",
       "        vertical-align: top;\n",
       "    }\n",
       "\n",
       "    .dataframe thead th {\n",
       "        text-align: right;\n",
       "    }\n",
       "</style>\n",
       "<table border=\"1\" class=\"dataframe\">\n",
       "  <thead>\n",
       "    <tr style=\"text-align: right;\">\n",
       "      <th></th>\n",
       "      <th>Page Name</th>\n",
       "      <th>Year</th>\n",
       "      <th>composer</th>\n",
       "      <th>link</th>\n",
       "      <th>pdfs</th>\n",
       "    </tr>\n",
       "  </thead>\n",
       "  <tbody>\n",
       "    <tr>\n",
       "      <th>1</th>\n",
       "      <td>Abendlied unter'm gestirnten Himmel, WoO 150 (...</td>\n",
       "      <td>1820</td>\n",
       "      <td>Beethoven, Ludwig van</td>\n",
       "      <td>https://imslp.org/wiki/Abendlied_unter'm_gesti...</td>\n",
       "      <td>[http://imslp.simssa.ca/files/imglnks/usimg/3/...</td>\n",
       "    </tr>\n",
       "    <tr>\n",
       "      <th>2</th>\n",
       "      <td>Abschiedsgesang an Wiens Bürger, WoO 121 (Beet...</td>\n",
       "      <td>1796</td>\n",
       "      <td>Beethoven, Ludwig van</td>\n",
       "      <td>https://imslp.org/wiki/Abschiedsgesang_an_Wien...</td>\n",
       "      <td>[http://ks.petruccimusiclibrary.org/files/imgl...</td>\n",
       "    </tr>\n",
       "    <tr>\n",
       "      <th>3</th>\n",
       "      <td>Abschiedsgesang, WoO 102 (Beethoven, Ludwig van)</td>\n",
       "      <td>1814</td>\n",
       "      <td>Beethoven, Ludwig van</td>\n",
       "      <td>https://imslp.org/wiki/Abschiedsgesang,_WoO_10...</td>\n",
       "      <td>[http://conquest.imslp.info/files/imglnks/usim...</td>\n",
       "    </tr>\n",
       "    <tr>\n",
       "      <th>4</th>\n",
       "      <td>Adagio for Mandolin and Harpsichord, WoO 43b (...</td>\n",
       "      <td>1796</td>\n",
       "      <td>Beethoven, Ludwig van</td>\n",
       "      <td>https://imslp.org/wiki/Adagio_for_Mandolin_and...</td>\n",
       "      <td>[http://ks4.imslp.net/files/imglnks/usimg/a/af...</td>\n",
       "    </tr>\n",
       "    <tr>\n",
       "      <th>5</th>\n",
       "      <td>Adelaide, Op.46 (Beethoven, Ludwig van)</td>\n",
       "      <td>1795–96</td>\n",
       "      <td>Beethoven, Ludwig van</td>\n",
       "      <td>https://imslp.org/wiki/Adelaide,_Op.46_(Beetho...</td>\n",
       "      <td>[http://ks4.imslp.net/files/imglnks/usimg/f/f2...</td>\n",
       "    </tr>\n",
       "    <tr>\n",
       "      <th>6</th>\n",
       "      <td>Ah! Perfido, Op.65 (Beethoven, Ludwig van)</td>\n",
       "      <td>1796</td>\n",
       "      <td>Beethoven, Ludwig van</td>\n",
       "      <td>https://imslp.org/wiki/Ah!_Perfido,_Op.65_(Bee...</td>\n",
       "      <td>[http://ks4.imslp.info/files/imglnks/usimg/d/d...</td>\n",
       "    </tr>\n",
       "  </tbody>\n",
       "</table>\n",
       "</div>"
      ],
      "text/plain": [
       "                                           Page Name     Year  \\\n",
       "1  Abendlied unter'm gestirnten Himmel, WoO 150 (...     1820   \n",
       "2  Abschiedsgesang an Wiens Bürger, WoO 121 (Beet...     1796   \n",
       "3   Abschiedsgesang, WoO 102 (Beethoven, Ludwig van)     1814   \n",
       "4  Adagio for Mandolin and Harpsichord, WoO 43b (...     1796   \n",
       "5            Adelaide, Op.46 (Beethoven, Ludwig van)  1795–96   \n",
       "6         Ah! Perfido, Op.65 (Beethoven, Ludwig van)     1796   \n",
       "\n",
       "                composer                                               link  \\\n",
       "1  Beethoven, Ludwig van  https://imslp.org/wiki/Abendlied_unter'm_gesti...   \n",
       "2  Beethoven, Ludwig van  https://imslp.org/wiki/Abschiedsgesang_an_Wien...   \n",
       "3  Beethoven, Ludwig van  https://imslp.org/wiki/Abschiedsgesang,_WoO_10...   \n",
       "4  Beethoven, Ludwig van  https://imslp.org/wiki/Adagio_for_Mandolin_and...   \n",
       "5  Beethoven, Ludwig van  https://imslp.org/wiki/Adelaide,_Op.46_(Beetho...   \n",
       "6  Beethoven, Ludwig van  https://imslp.org/wiki/Ah!_Perfido,_Op.65_(Bee...   \n",
       "\n",
       "                                                pdfs  \n",
       "1  [http://imslp.simssa.ca/files/imglnks/usimg/3/...  \n",
       "2  [http://ks.petruccimusiclibrary.org/files/imgl...  \n",
       "3  [http://conquest.imslp.info/files/imglnks/usim...  \n",
       "4  [http://ks4.imslp.net/files/imglnks/usimg/a/af...  \n",
       "5  [http://ks4.imslp.net/files/imglnks/usimg/f/f2...  \n",
       "6  [http://ks4.imslp.info/files/imglnks/usimg/d/d...  "
      ]
     },
     "execution_count": 14,
     "metadata": {},
     "output_type": "execute_result"
    }
   ],
   "source": [
    "cp.works_df.dropna()"
   ]
  }
 ],
 "metadata": {
  "kernelspec": {
   "display_name": "Python 3",
   "language": "python",
   "name": "python3"
  },
  "language_info": {
   "codemirror_mode": {
    "name": "ipython",
    "version": 3
   },
   "file_extension": ".py",
   "mimetype": "text/x-python",
   "name": "python",
   "nbconvert_exporter": "python",
   "pygments_lexer": "ipython3",
   "version": "3.7.3"
  }
 },
 "nbformat": 4,
 "nbformat_minor": 2
}
