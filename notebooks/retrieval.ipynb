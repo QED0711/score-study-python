{
 "cells": [
  {
   "cell_type": "code",
   "execution_count": 1,
   "metadata": {
    "ExecuteTime": {
     "end_time": "2019-09-23T18:42:36.663272Z",
     "start_time": "2019-09-23T18:42:36.126069Z"
    }
   },
   "outputs": [],
   "source": [
    "import pandas as pd\n",
    "import requests\n",
    "from bs4 import BeautifulSoup"
   ]
  },
  {
   "cell_type": "code",
   "execution_count": 2,
   "metadata": {
    "ExecuteTime": {
     "end_time": "2019-09-23T18:43:54.868323Z",
     "start_time": "2019-09-23T18:43:54.409727Z"
    }
   },
   "outputs": [],
   "source": [
    "url = \"https://imslp.org/index.php?title=Category:Beethoven%2C%20Ludwig%20van&customcat=ccperson1\"\n",
    "\n",
    "html = requests.get(url).content"
   ]
  },
  {
   "cell_type": "code",
   "execution_count": 12,
   "metadata": {
    "ExecuteTime": {
     "end_time": "2019-09-23T18:51:29.934263Z",
     "start_time": "2019-09-23T18:51:29.851596Z"
    }
   },
   "outputs": [
    {
     "data": {
      "text/html": [
       "<div>\n",
       "<style scoped>\n",
       "    .dataframe tbody tr th:only-of-type {\n",
       "        vertical-align: middle;\n",
       "    }\n",
       "\n",
       "    .dataframe tbody tr th {\n",
       "        vertical-align: top;\n",
       "    }\n",
       "\n",
       "    .dataframe thead th {\n",
       "        text-align: right;\n",
       "    }\n",
       "</style>\n",
       "<table border=\"1\" class=\"dataframe\">\n",
       "  <thead>\n",
       "    <tr style=\"text-align: right;\">\n",
       "      <th></th>\n",
       "      <th>Page Name</th>\n",
       "      <th>Cat. No.</th>\n",
       "      <th>I-Cat.</th>\n",
       "      <th>Key</th>\n",
       "      <th>Year</th>\n",
       "    </tr>\n",
       "  </thead>\n",
       "  <tbody>\n",
       "    <tr>\n",
       "      <th>0</th>\n",
       "      <td>Abbé Stadler, WoO 178 (Beethoven, Ludwig van)</td>\n",
       "      <td>WoO 178</td>\n",
       "      <td>ILB 1</td>\n",
       "      <td>B-flat major</td>\n",
       "      <td>1820</td>\n",
       "    </tr>\n",
       "    <tr>\n",
       "      <th>1</th>\n",
       "      <td>Abendlied unter'm gestirnten Himmel, WoO 150 (...</td>\n",
       "      <td>WoO 150</td>\n",
       "      <td>ILB 2</td>\n",
       "      <td>E major</td>\n",
       "      <td>1820</td>\n",
       "    </tr>\n",
       "    <tr>\n",
       "      <th>2</th>\n",
       "      <td>Abschiedsgesang an Wiens Bürger, WoO 121 (Beet...</td>\n",
       "      <td>WoO 121</td>\n",
       "      <td>ILB 3</td>\n",
       "      <td>G major</td>\n",
       "      <td>1796</td>\n",
       "    </tr>\n",
       "    <tr>\n",
       "      <th>3</th>\n",
       "      <td>Abschiedsgesang, WoO 102 (Beethoven, Ludwig van)</td>\n",
       "      <td>WoO 102</td>\n",
       "      <td>ILB 4</td>\n",
       "      <td>B-flat major</td>\n",
       "      <td>1814</td>\n",
       "    </tr>\n",
       "    <tr>\n",
       "      <th>4</th>\n",
       "      <td>Adagio for Mandolin and Harpsichord, WoO 43b (...</td>\n",
       "      <td>WoO 43b</td>\n",
       "      <td>ILB 5</td>\n",
       "      <td>E-flat major</td>\n",
       "      <td>1796</td>\n",
       "    </tr>\n",
       "  </tbody>\n",
       "</table>\n",
       "</div>"
      ],
      "text/plain": [
       "                                           Page Name Cat. No. I-Cat.  \\\n",
       "0      Abbé Stadler, WoO 178 (Beethoven, Ludwig van)  WoO 178  ILB 1   \n",
       "1  Abendlied unter'm gestirnten Himmel, WoO 150 (...  WoO 150  ILB 2   \n",
       "2  Abschiedsgesang an Wiens Bürger, WoO 121 (Beet...  WoO 121  ILB 3   \n",
       "3   Abschiedsgesang, WoO 102 (Beethoven, Ludwig van)  WoO 102  ILB 4   \n",
       "4  Adagio for Mandolin and Harpsichord, WoO 43b (...  WoO 43b  ILB 5   \n",
       "\n",
       "            Key  Year  \n",
       "0  B-flat major  1820  \n",
       "1       E major  1820  \n",
       "2       G major  1796  \n",
       "3  B-flat major  1814  \n",
       "4  E-flat major  1796  "
      ]
     },
     "execution_count": 12,
     "metadata": {},
     "output_type": "execute_result"
    }
   ],
   "source": [
    "table = pd.read_html(html)[0]\n",
    "table.head()"
   ]
  },
  {
   "cell_type": "code",
   "execution_count": 13,
   "metadata": {
    "ExecuteTime": {
     "end_time": "2019-09-23T18:51:56.676041Z",
     "start_time": "2019-09-23T18:51:56.663760Z"
    }
   },
   "outputs": [
    {
     "data": {
      "text/html": [
       "<div>\n",
       "<style scoped>\n",
       "    .dataframe tbody tr th:only-of-type {\n",
       "        vertical-align: middle;\n",
       "    }\n",
       "\n",
       "    .dataframe tbody tr th {\n",
       "        vertical-align: top;\n",
       "    }\n",
       "\n",
       "    .dataframe thead th {\n",
       "        text-align: right;\n",
       "    }\n",
       "</style>\n",
       "<table border=\"1\" class=\"dataframe\">\n",
       "  <thead>\n",
       "    <tr style=\"text-align: right;\">\n",
       "      <th></th>\n",
       "      <th>Page Name</th>\n",
       "      <th>Cat. No.</th>\n",
       "      <th>I-Cat.</th>\n",
       "      <th>Key</th>\n",
       "      <th>Year</th>\n",
       "      <th>links</th>\n",
       "    </tr>\n",
       "  </thead>\n",
       "  <tbody>\n",
       "    <tr>\n",
       "      <th>0</th>\n",
       "      <td>Abbé Stadler, WoO 178 (Beethoven, Ludwig van)</td>\n",
       "      <td>WoO 178</td>\n",
       "      <td>ILB 1</td>\n",
       "      <td>B-flat major</td>\n",
       "      <td>1820</td>\n",
       "      <td>https://imslp.org/wiki/Abbé_Stadler,_WoO_178_(...</td>\n",
       "    </tr>\n",
       "    <tr>\n",
       "      <th>1</th>\n",
       "      <td>Abendlied unter'm gestirnten Himmel, WoO 150 (...</td>\n",
       "      <td>WoO 150</td>\n",
       "      <td>ILB 2</td>\n",
       "      <td>E major</td>\n",
       "      <td>1820</td>\n",
       "      <td>https://imslp.org/wiki/Abendlied_unter'm_gesti...</td>\n",
       "    </tr>\n",
       "    <tr>\n",
       "      <th>2</th>\n",
       "      <td>Abschiedsgesang an Wiens Bürger, WoO 121 (Beet...</td>\n",
       "      <td>WoO 121</td>\n",
       "      <td>ILB 3</td>\n",
       "      <td>G major</td>\n",
       "      <td>1796</td>\n",
       "      <td>https://imslp.org/wiki/Abschiedsgesang_an_Wien...</td>\n",
       "    </tr>\n",
       "    <tr>\n",
       "      <th>3</th>\n",
       "      <td>Abschiedsgesang, WoO 102 (Beethoven, Ludwig van)</td>\n",
       "      <td>WoO 102</td>\n",
       "      <td>ILB 4</td>\n",
       "      <td>B-flat major</td>\n",
       "      <td>1814</td>\n",
       "      <td>https://imslp.org/wiki/Abschiedsgesang,_WoO_10...</td>\n",
       "    </tr>\n",
       "    <tr>\n",
       "      <th>4</th>\n",
       "      <td>Adagio for Mandolin and Harpsichord, WoO 43b (...</td>\n",
       "      <td>WoO 43b</td>\n",
       "      <td>ILB 5</td>\n",
       "      <td>E-flat major</td>\n",
       "      <td>1796</td>\n",
       "      <td>https://imslp.org/wiki/Adagio_for_Mandolin_and...</td>\n",
       "    </tr>\n",
       "  </tbody>\n",
       "</table>\n",
       "</div>"
      ],
      "text/plain": [
       "                                           Page Name Cat. No. I-Cat.  \\\n",
       "0      Abbé Stadler, WoO 178 (Beethoven, Ludwig van)  WoO 178  ILB 1   \n",
       "1  Abendlied unter'm gestirnten Himmel, WoO 150 (...  WoO 150  ILB 2   \n",
       "2  Abschiedsgesang an Wiens Bürger, WoO 121 (Beet...  WoO 121  ILB 3   \n",
       "3   Abschiedsgesang, WoO 102 (Beethoven, Ludwig van)  WoO 102  ILB 4   \n",
       "4  Adagio for Mandolin and Harpsichord, WoO 43b (...  WoO 43b  ILB 5   \n",
       "\n",
       "            Key  Year                                              links  \n",
       "0  B-flat major  1820  https://imslp.org/wiki/Abbé_Stadler,_WoO_178_(...  \n",
       "1       E major  1820  https://imslp.org/wiki/Abendlied_unter'm_gesti...  \n",
       "2       G major  1796  https://imslp.org/wiki/Abschiedsgesang_an_Wien...  \n",
       "3  B-flat major  1814  https://imslp.org/wiki/Abschiedsgesang,_WoO_10...  \n",
       "4  E-flat major  1796  https://imslp.org/wiki/Adagio_for_Mandolin_and...  "
      ]
     },
     "execution_count": 13,
     "metadata": {},
     "output_type": "execute_result"
    }
   ],
   "source": [
    "def get_url(s):\n",
    "    return \"https://imslp.org/wiki/\" + s.replace(\" \", \"_\")\n",
    "    \n",
    "table['links'] = table['Page Name'].apply(get_url)\n",
    "\n",
    "table.head()"
   ]
  },
  {
   "cell_type": "code",
   "execution_count": 15,
   "metadata": {
    "ExecuteTime": {
     "end_time": "2019-09-23T18:52:31.076156Z",
     "start_time": "2019-09-23T18:52:31.073922Z"
    }
   },
   "outputs": [
    {
     "name": "stdout",
     "output_type": "stream",
     "text": [
      "https://imslp.org/wiki/Andante_favori,_WoO_57_(Beethoven,_Ludwig_van)\n"
     ]
    }
   ],
   "source": [
    "print(table.links[20])"
   ]
  }
 ],
 "metadata": {
  "kernelspec": {
   "display_name": "Python 3",
   "language": "python",
   "name": "python3"
  },
  "language_info": {
   "codemirror_mode": {
    "name": "ipython",
    "version": 3
   },
   "file_extension": ".py",
   "mimetype": "text/x-python",
   "name": "python",
   "nbconvert_exporter": "python",
   "pygments_lexer": "ipython3",
   "version": "3.7.3"
  }
 },
 "nbformat": 4,
 "nbformat_minor": 2
}
