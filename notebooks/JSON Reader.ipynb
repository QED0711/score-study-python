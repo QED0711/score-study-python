{
 "cells": [
  {
   "cell_type": "code",
   "execution_count": 2,
   "metadata": {
    "ExecuteTime": {
     "end_time": "2019-10-01T18:19:32.138219Z",
     "start_time": "2019-10-01T18:19:32.136308Z"
    }
   },
   "outputs": [],
   "source": [
    "import json\n",
    "import pandas as pd"
   ]
  },
  {
   "cell_type": "code",
   "execution_count": 3,
   "metadata": {
    "ExecuteTime": {
     "end_time": "2019-10-01T18:20:03.026461Z",
     "start_time": "2019-10-01T18:20:02.915897Z"
    }
   },
   "outputs": [
    {
     "name": "stdout",
     "output_type": "stream",
     "text": [
      "ascarlatti.json  dvorak.json\t   meyerbeer.json\tschubert.json\r\n",
      "bartok.json\t elgar.json\t   monteverdi.json\tschumann.json\r\n",
      "beethoven.json\t faure.json\t   morley.json\t\tschutz.json\r\n",
      "bellini.json\t franck.json\t   mozart.json\t\tscriabin.json\r\n",
      "berg.json\t frescobaldi.json  mussorgsky.json\tsibelius.json\r\n",
      "berlioz.json\t gabrieli.json\t   ockeghem.json\tsmetana.json\r\n",
      "binchois.json\t gesualdo.json\t   offenbach.json\tstamitz.json\r\n",
      "bizet.json\t gibbons.json\t   paganini.json\tstravinsky.json\r\n",
      "borodin.json\t gluck.json\t   palestrina.json\ttallis.json\r\n",
      "brahms.json\t gounod.json\t   pergolesi.json\ttaverner.json\r\n",
      "bruckner.json\t grieg.json\t   perotin.json\t\ttchaikovsky.json\r\n",
      "byrd.json\t handel.json\t   praetorius.json\ttelemann.json\r\n",
      "caccini.json\t haydn.json\t   prokofiev.json\tvarese.json\r\n",
      "chopin.json\t hindemith.json    puccini.json\t\tvaughanwilliams.json\r\n",
      "corelli.json\t holst.json\t   purcell.json\t\tverdi.json\r\n",
      "couperin.json\t ives.json\t   rachmaninoff.json\tvictoria.json\r\n",
      "cpebach.json\t josquin.json\t   rameau.json\t\tvivaldi.json\r\n",
      "debussy.json\t jsbach.json\t   ravel.json\t\twagner.json\r\n",
      "devitry.json\t lassus.json\t   rimskykorsakov.json\twebern.json\r\n",
      "donizetti.json\t liszt.json\t   rossini.json\t\tweelkes.json\r\n",
      "dowland.json\t lully.json\t   rstrauss.json\twolf.json\r\n",
      "dscarlatti.json  machaut.json\t   saintsaens.json\r\n",
      "dufay.json\t mahler.json\t   satie.json\r\n",
      "dunstable.json\t mendelssohn.json  schoenberg.json\r\n"
     ]
    }
   ],
   "source": [
    "!ls ../json\n"
   ]
  },
  {
   "cell_type": "code",
   "execution_count": 4,
   "metadata": {
    "ExecuteTime": {
     "end_time": "2019-10-01T18:22:46.341487Z",
     "start_time": "2019-10-01T18:22:46.337564Z"
    }
   },
   "outputs": [],
   "source": [
    "with open(\"../json/beethoven.json\", \"r\") as file:\n",
    "    data = json.load(file)"
   ]
  },
  {
   "cell_type": "code",
   "execution_count": 9,
   "metadata": {
    "ExecuteTime": {
     "end_time": "2019-10-01T18:25:18.377995Z",
     "start_time": "2019-10-01T18:25:18.363288Z"
    }
   },
   "outputs": [
    {
     "data": {
      "text/html": [
       "<div>\n",
       "<style scoped>\n",
       "    .dataframe tbody tr th:only-of-type {\n",
       "        vertical-align: middle;\n",
       "    }\n",
       "\n",
       "    .dataframe tbody tr th {\n",
       "        vertical-align: top;\n",
       "    }\n",
       "\n",
       "    .dataframe thead th {\n",
       "        text-align: right;\n",
       "    }\n",
       "</style>\n",
       "<table border=\"1\" class=\"dataframe\">\n",
       "  <thead>\n",
       "    <tr style=\"text-align: right;\">\n",
       "      <th></th>\n",
       "      <th>composer</th>\n",
       "      <th>title</th>\n",
       "      <th>date</th>\n",
       "      <th>tags</th>\n",
       "      <th>scores</th>\n",
       "    </tr>\n",
       "  </thead>\n",
       "  <tbody>\n",
       "    <tr>\n",
       "      <th>258</th>\n",
       "      <td>Beethoven, Ludwig van</td>\n",
       "      <td>Symphony No.1, Op.21</td>\n",
       "      <td>1799</td>\n",
       "      <td>[Symphonies, For orchestra]</td>\n",
       "      <td>[https://imslp.org/wiki/Special:ImagefromIndex...</td>\n",
       "    </tr>\n",
       "    <tr>\n",
       "      <th>259</th>\n",
       "      <td>Beethoven, Ludwig van</td>\n",
       "      <td>Symphony No.2, Op.36</td>\n",
       "      <td>1800</td>\n",
       "      <td>[Symphonies, For orchestra]</td>\n",
       "      <td>[https://imslp.org/wiki/Special:ImagefromIndex...</td>\n",
       "    </tr>\n",
       "    <tr>\n",
       "      <th>260</th>\n",
       "      <td>Beethoven, Ludwig van</td>\n",
       "      <td>Symphony No.3, Op.55</td>\n",
       "      <td>1803</td>\n",
       "      <td>[Symphonies, For orchestra]</td>\n",
       "      <td>[https://imslp.org/wiki/Special:ImagefromIndex...</td>\n",
       "    </tr>\n",
       "    <tr>\n",
       "      <th>261</th>\n",
       "      <td>Beethoven, Ludwig van</td>\n",
       "      <td>Symphony No.4, Op.60</td>\n",
       "      <td>1806</td>\n",
       "      <td>[Symphonies, For orchestra]</td>\n",
       "      <td>[https://imslp.org/wiki/Special:ImagefromIndex...</td>\n",
       "    </tr>\n",
       "    <tr>\n",
       "      <th>262</th>\n",
       "      <td>Beethoven, Ludwig van</td>\n",
       "      <td>Symphony No.5, Op.67</td>\n",
       "      <td>1807</td>\n",
       "      <td>[Symphonies, For orchestra]</td>\n",
       "      <td>[https://imslp.org/wiki/Special:ImagefromIndex...</td>\n",
       "    </tr>\n",
       "    <tr>\n",
       "      <th>263</th>\n",
       "      <td>Beethoven, Ludwig van</td>\n",
       "      <td>Symphony No.6, Op.68</td>\n",
       "      <td>1808</td>\n",
       "      <td>[Symphonies, For orchestra]</td>\n",
       "      <td>[https://imslp.org/wiki/Special:ImagefromIndex...</td>\n",
       "    </tr>\n",
       "    <tr>\n",
       "      <th>264</th>\n",
       "      <td>Beethoven, Ludwig van</td>\n",
       "      <td>Symphony No.7, Op.92</td>\n",
       "      <td>1811</td>\n",
       "      <td>[Symphonies, For orchestra]</td>\n",
       "      <td>[https://imslp.org/wiki/Special:ImagefromIndex...</td>\n",
       "    </tr>\n",
       "    <tr>\n",
       "      <th>265</th>\n",
       "      <td>Beethoven, Ludwig van</td>\n",
       "      <td>Symphony No.8, Op.93</td>\n",
       "      <td>1812</td>\n",
       "      <td>[Symphonies, For orchestra]</td>\n",
       "      <td>[https://imslp.org/wiki/Special:ImagefromIndex...</td>\n",
       "    </tr>\n",
       "    <tr>\n",
       "      <th>266</th>\n",
       "      <td>Beethoven, Ludwig van</td>\n",
       "      <td>Symphony No.9, Op.125</td>\n",
       "      <td>1822</td>\n",
       "      <td>[Symphonies, For 4 voices, mixed chorus, orche...</td>\n",
       "      <td>[https://imslp.org/wiki/Special:ImagefromIndex...</td>\n",
       "    </tr>\n",
       "  </tbody>\n",
       "</table>\n",
       "</div>"
      ],
      "text/plain": [
       "                  composer                  title  date  \\\n",
       "258  Beethoven, Ludwig van   Symphony No.1, Op.21  1799   \n",
       "259  Beethoven, Ludwig van   Symphony No.2, Op.36  1800   \n",
       "260  Beethoven, Ludwig van   Symphony No.3, Op.55  1803   \n",
       "261  Beethoven, Ludwig van   Symphony No.4, Op.60  1806   \n",
       "262  Beethoven, Ludwig van   Symphony No.5, Op.67  1807   \n",
       "263  Beethoven, Ludwig van   Symphony No.6, Op.68  1808   \n",
       "264  Beethoven, Ludwig van   Symphony No.7, Op.92  1811   \n",
       "265  Beethoven, Ludwig van   Symphony No.8, Op.93  1812   \n",
       "266  Beethoven, Ludwig van  Symphony No.9, Op.125  1822   \n",
       "\n",
       "                                                  tags  \\\n",
       "258                        [Symphonies, For orchestra]   \n",
       "259                        [Symphonies, For orchestra]   \n",
       "260                        [Symphonies, For orchestra]   \n",
       "261                        [Symphonies, For orchestra]   \n",
       "262                        [Symphonies, For orchestra]   \n",
       "263                        [Symphonies, For orchestra]   \n",
       "264                        [Symphonies, For orchestra]   \n",
       "265                        [Symphonies, For orchestra]   \n",
       "266  [Symphonies, For 4 voices, mixed chorus, orche...   \n",
       "\n",
       "                                                scores  \n",
       "258  [https://imslp.org/wiki/Special:ImagefromIndex...  \n",
       "259  [https://imslp.org/wiki/Special:ImagefromIndex...  \n",
       "260  [https://imslp.org/wiki/Special:ImagefromIndex...  \n",
       "261  [https://imslp.org/wiki/Special:ImagefromIndex...  \n",
       "262  [https://imslp.org/wiki/Special:ImagefromIndex...  \n",
       "263  [https://imslp.org/wiki/Special:ImagefromIndex...  \n",
       "264  [https://imslp.org/wiki/Special:ImagefromIndex...  \n",
       "265  [https://imslp.org/wiki/Special:ImagefromIndex...  \n",
       "266  [https://imslp.org/wiki/Special:ImagefromIndex...  "
      ]
     },
     "execution_count": 9,
     "metadata": {},
     "output_type": "execute_result"
    }
   ],
   "source": [
    "beethoven = pd.DataFrame(data)\n",
    "beethoven[beethoven.title.str.match(\"Symphony\")]"
   ]
  }
 ],
 "metadata": {
  "kernelspec": {
   "display_name": "Python 3",
   "language": "python",
   "name": "python3"
  },
  "language_info": {
   "codemirror_mode": {
    "name": "ipython",
    "version": 3
   },
   "file_extension": ".py",
   "mimetype": "text/x-python",
   "name": "python",
   "nbconvert_exporter": "python",
   "pygments_lexer": "ipython3",
   "version": "3.7.3"
  }
 },
 "nbformat": 4,
 "nbformat_minor": 2
}
