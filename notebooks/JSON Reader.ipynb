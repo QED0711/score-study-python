{
 "cells": [
  {
   "cell_type": "code",
   "execution_count": 12,
   "metadata": {
    "ExecuteTime": {
     "end_time": "2019-10-03T00:31:54.481948Z",
     "start_time": "2019-10-03T00:31:54.477239Z"
    }
   },
   "outputs": [],
   "source": [
    "import os\n",
    "import json\n",
    "import pdb\n",
    "import requests\n",
    "import pandas as pd"
   ]
  },
  {
   "cell_type": "code",
   "execution_count": 2,
   "metadata": {
    "ExecuteTime": {
     "end_time": "2019-10-01T22:06:21.867210Z",
     "start_time": "2019-10-01T22:06:21.751384Z"
    }
   },
   "outputs": [
    {
     "name": "stdout",
     "output_type": "stream",
     "text": [
      "ascarlatti.json  dvorak.json\t   meyerbeer.json\tschubert.json\r\n",
      "bartok.json\t elgar.json\t   monteverdi.json\tschumann.json\r\n",
      "beethoven.json\t faure.json\t   morley.json\t\tschutz.json\r\n",
      "bellini.json\t franck.json\t   mozart.json\t\tscriabin.json\r\n",
      "berg.json\t frescobaldi.json  mussorgsky.json\tsibelius.json\r\n",
      "berlioz.json\t gabrieli.json\t   ockeghem.json\tsmetana.json\r\n",
      "binchois.json\t gesualdo.json\t   offenbach.json\tstamitz.json\r\n",
      "bizet.json\t gibbons.json\t   paganini.json\tstravinsky.json\r\n",
      "borodin.json\t gluck.json\t   palestrina.json\ttallis.json\r\n",
      "brahms.json\t gounod.json\t   pergolesi.json\ttaverner.json\r\n",
      "bruckner.json\t grieg.json\t   perotin.json\t\ttchaikovsky.json\r\n",
      "byrd.json\t handel.json\t   praetorius.json\ttelemann.json\r\n",
      "caccini.json\t haydn.json\t   prokofiev.json\tvarese.json\r\n",
      "chopin.json\t hindemith.json    puccini.json\t\tvaughanwilliams.json\r\n",
      "corelli.json\t holst.json\t   purcell.json\t\tverdi.json\r\n",
      "couperin.json\t ives.json\t   rachmaninoff.json\tvictoria.json\r\n",
      "cpebach.json\t josquin.json\t   rameau.json\t\tvivaldi.json\r\n",
      "debussy.json\t jsbach.json\t   ravel.json\t\twagner.json\r\n",
      "devitry.json\t lassus.json\t   rimskykorsakov.json\twebern.json\r\n",
      "donizetti.json\t liszt.json\t   rossini.json\t\tweelkes.json\r\n",
      "dowland.json\t lully.json\t   rstrauss.json\twolf.json\r\n",
      "dscarlatti.json  machaut.json\t   saintsaens.json\r\n",
      "dufay.json\t mahler.json\t   satie.json\r\n",
      "dunstable.json\t mendelssohn.json  schoenberg.json\r\n"
     ]
    }
   ],
   "source": [
    "!ls ../json\n"
   ]
  },
  {
   "cell_type": "code",
   "execution_count": 7,
   "metadata": {
    "ExecuteTime": {
     "end_time": "2019-10-03T00:26:12.703723Z",
     "start_time": "2019-10-03T00:26:12.700034Z"
    }
   },
   "outputs": [],
   "source": [
    "for root, dirs, files in os.walk(\"../json\"):\n",
    "    json_files = files"
   ]
  },
  {
   "cell_type": "code",
   "execution_count": 16,
   "metadata": {
    "ExecuteTime": {
     "end_time": "2019-10-03T00:47:35.039328Z",
     "start_time": "2019-10-03T00:47:35.003988Z"
    }
   },
   "outputs": [
    {
     "name": "stdout",
     "output_type": "stream",
     "text": [
      "192397\n",
      "408001\n",
      "409290\n",
      "406590\n",
      "399696\n",
      "399701\n",
      "194961\n",
      "313978\n",
      "513594\n",
      "456044\n",
      "406586\n",
      "406239\n",
      "377547\n",
      "406212\n",
      "406214\n",
      "391062\n",
      "391558\n",
      "391559\n",
      "313986\n",
      "406606\n",
      "454313\n",
      "167170\n",
      "178025\n",
      "310326\n",
      "406599\n",
      "406600\n",
      "345801\n",
      "345628\n",
      "345629\n",
      "126918\n",
      "126920\n",
      "126921\n",
      "103831\n",
      "103832\n",
      "103833\n",
      "211949\n",
      "211950\n",
      "407802\n",
      "175407\n",
      "175402\n",
      "175404\n",
      "179444\n",
      "175408\n",
      "179445\n",
      "314502\n",
      "406605\n",
      "391442\n",
      "96444\n",
      "32118\n",
      "363105\n",
      "313987\n",
      "406234\n",
      "96457\n",
      "283144\n",
      "346006\n",
      "313988\n",
      "407849\n",
      "391068\n",
      "345736\n",
      "345737\n",
      "345780\n",
      "345781\n",
      "26944\n",
      "415164\n",
      "1479\n",
      "178724\n",
      "467873\n",
      "237674\n",
      "346009\n",
      "276760\n",
      "2240\n",
      "512215\n",
      "258102\n",
      "391441\n",
      "391438\n",
      "409292\n",
      "391443\n",
      "391439\n",
      "391440\n",
      "406603\n",
      "313982\n",
      "406238\n",
      "345806\n",
      "402008\n",
      "345807\n",
      "346000\n",
      "390234\n",
      "345692\n",
      "258139\n",
      "258395\n",
      "258396\n",
      "258397\n",
      "346350\n",
      "345998\n",
      "345994\n",
      "83658\n",
      "54189\n",
      "345984\n",
      "384788\n",
      "345982\n",
      "345696\n",
      "345805\n",
      "345977\n",
      "346351\n",
      "259623\n",
      "379477\n",
      "363102\n",
      "96404\n",
      "2005\n",
      "313984\n",
      "456054\n",
      "313985\n",
      "345733\n",
      "395667\n",
      "23905\n",
      "3993\n",
      "90152\n",
      "109826\n",
      "96452\n",
      "23953\n",
      "23954\n",
      "24499\n",
      "24501\n",
      "54228\n",
      "96443\n",
      "24502\n",
      "54287\n",
      "24509\n",
      "509122\n",
      "24514\n",
      "509120\n",
      "24515\n",
      "54289\n",
      "192393\n",
      "54290\n",
      "24516\n",
      "97213\n",
      "102952\n",
      "24533\n",
      "54195\n",
      "54192\n",
      "54292\n",
      "54197\n",
      "54212\n",
      "96456\n",
      "54196\n",
      "256319\n",
      "54217\n",
      "54218\n",
      "54216\n",
      "407842\n",
      "96442\n",
      "54293\n",
      "9545\n",
      "54294\n",
      "54223\n",
      "54222\n",
      "96451\n",
      "54295\n",
      "106173\n",
      "407800\n",
      "23900\n",
      "54224\n",
      "509124\n",
      "54227\n",
      "106172\n",
      "363103\n",
      "54286\n",
      "54221\n",
      "54288\n",
      "509123\n",
      "54285\n",
      "54225\n",
      "9544\n",
      "23904\n",
      "9543\n",
      "310327\n",
      "90780\n",
      "501626\n",
      "470833\n",
      "456818\n",
      "262418\n",
      "442075\n",
      "406604\n",
      "399695\n",
      "362927\n",
      "362928\n",
      "362929\n",
      "362930\n",
      "362931\n",
      "362932\n",
      "290101\n",
      "456043\n",
      "399691\n",
      "399693\n",
      "399694\n",
      "456911\n",
      "399692\n",
      "391058\n",
      "409283\n",
      "407996\n",
      "407997\n",
      "325348\n",
      "325349\n",
      "24297\n",
      "305457\n",
      "305459\n",
      "305460\n",
      "467874\n",
      "467876\n",
      "406602\n",
      "406237\n",
      "313989\n",
      "406240\n",
      "85430\n",
      "85459\n",
      "394355\n",
      "85462\n",
      "394356\n",
      "106187\n",
      "106185\n",
      "106186\n",
      "1478\n",
      "96455\n",
      "96454\n",
      "167168\n",
      "178024\n",
      "484888\n",
      "407853\n",
      "367253\n",
      "379620\n",
      "2573\n",
      "58756\n",
      "126541\n",
      "95035\n",
      "287132\n",
      "438867\n",
      "167166\n",
      "178023\n",
      "106176\n",
      "106177\n",
      "106178\n",
      "106179\n",
      "106180\n",
      "379473\n",
      "313983\n",
      "112589\n",
      "112590\n",
      "112587\n",
      "426888\n",
      "112588\n",
      "390203\n",
      "363053\n",
      "79577\n",
      "390424\n",
      "112591\n",
      "363056\n",
      "79578\n",
      "350357\n",
      "356904\n",
      "363061\n",
      "79579\n",
      "350356\n",
      "380917\n",
      "112586\n",
      "363062\n",
      "329933\n",
      "33020\n",
      "329934\n",
      "467869\n",
      "467871\n",
      "467872\n",
      "258684\n",
      "258686\n",
      "258688\n",
      "90781\n",
      "329931\n",
      "33019\n",
      "329932\n",
      "166823\n",
      "166824\n",
      "166825\n",
      "166826\n",
      "329935\n",
      "90778\n",
      "154183\n",
      "391060\n",
      "409291\n",
      "313980\n",
      "510369\n",
      "72982\n",
      "120828\n",
      "295931\n",
      "406873\n",
      "406871\n",
      "283254\n",
      "2255\n",
      "61522\n",
      "3994\n",
      "378207\n"
     ]
    }
   ],
   "source": [
    "def process_json():\n",
    "    for file in json_files:\n",
    "        with open(f\"../json/{file}\", \"r\") as composer:\n",
    "            composer_data = json.load(composer)\n",
    "\n",
    "        composer_df = pd.DataFrame(composer_data)\n",
    "        composer_df['score_ids'] = composer_df.scores.apply(lambda score_lst: [int(x.split(\"/\")[-1]) for x in score_lst])\n",
    "\n",
    "        for ids in composer_df.score_ids:\n",
    "            for score_id in ids:\n",
    "                print(score_id)\n",
    "                continue\n",
    "                content = requests.get(f\"https://imslp.org/wiki/Special:IMSLPDisclaimerAccept/{score_id}\", headers={\"X-Forwarded-For\": \"24.18.100.31\"}).content\n",
    "\n",
    "                with open(\"../index.html\", \"w\") as file:\n",
    "                    file.write(content.decode(\"utf-8\"))\n",
    "        break\n",
    "        \n",
    "process_json()"
   ]
  },
  {
   "cell_type": "code",
   "execution_count": 5,
   "metadata": {
    "ExecuteTime": {
     "end_time": "2019-10-01T22:07:13.800112Z",
     "start_time": "2019-10-01T22:07:13.795939Z"
    }
   },
   "outputs": [],
   "source": [
    "with open(\"../json/beethoven.json\", \"r\") as file:\n",
    "    data = json.load(file)"
   ]
  },
  {
   "cell_type": "code",
   "execution_count": 8,
   "metadata": {
    "ExecuteTime": {
     "end_time": "2019-10-01T22:09:41.529593Z",
     "start_time": "2019-10-01T22:09:41.523708Z"
    }
   },
   "outputs": [
    {
     "data": {
      "text/plain": [
       "['https://imslp.org/wiki/Special:ImagefromIndex/74038',\n",
       " 'https://imslp.org/wiki/Special:ImagefromIndex/319015']"
      ]
     },
     "execution_count": 8,
     "metadata": {},
     "output_type": "execute_result"
    }
   ],
   "source": [
    "composer_df = pd.DataFrame(data)\n",
    "composer_df.iloc[0].scores"
   ]
  },
  {
   "cell_type": "code",
   "execution_count": 19,
   "metadata": {
    "ExecuteTime": {
     "end_time": "2019-10-01T22:18:12.239355Z",
     "start_time": "2019-10-01T22:18:12.233568Z"
    }
   },
   "outputs": [
    {
     "data": {
      "text/plain": [
       "{'composer': 'Beethoven, Ludwig van',\n",
       " 'date': '1820',\n",
       " 'scores': ['https://imslp.org/wiki/Special:ImagefromIndex/74038',\n",
       "  'https://imslp.org/wiki/Special:ImagefromIndex/319015'],\n",
       " 'tags': ['Canons', 'For 3 voices', 'For unaccompanied voices'],\n",
       " 'title': 'Abbé Stadler, WoO 178',\n",
       " 'score_ids': [74038, 319015]}"
      ]
     },
     "execution_count": 19,
     "metadata": {},
     "output_type": "execute_result"
    }
   ],
   "source": [
    "composer_df['score_ids'] = composer_df.scores.apply(lambda score_lst: [int(x.split(\"/\")[-1]) for x in score_lst])\n",
    "\n",
    "composer_df.iloc[0].to_dict()"
   ]
  },
  {
   "cell_type": "code",
   "execution_count": 29,
   "metadata": {
    "ExecuteTime": {
     "end_time": "2019-10-01T23:25:14.344900Z",
     "start_time": "2019-10-01T23:25:13.900045Z"
    }
   },
   "outputs": [],
   "source": [
    "content = requests.get(\"https://imslp.org/wiki/Special:IMSLPDisclaimerAccept/51737\", headers={\"X-Forwarded-For\": \"24.18.100.31\"}).content\n",
    "\n",
    "with open(\"../index.html\", \"w\") as file:\n",
    "    file.write(content.decode(\"utf-8\"))"
   ]
  },
  {
   "cell_type": "code",
   "execution_count": 34,
   "metadata": {
    "ExecuteTime": {
     "end_time": "2019-10-01T23:39:01.781898Z",
     "start_time": "2019-10-01T23:39:01.776910Z"
    }
   },
   "outputs": [
    {
     "data": {
      "text/plain": [
       "<Response [200]>"
      ]
     },
     "execution_count": 34,
     "metadata": {},
     "output_type": "execute_result"
    }
   ],
   "source": [
    "requests.get(\"http://127.0.0.1:8080\", headers={\"X-Forwarded-For\": \"24.18.100.31\"})"
   ]
  },
  {
   "cell_type": "code",
   "execution_count": 22,
   "metadata": {
    "ExecuteTime": {
     "end_time": "2019-10-01T22:57:18.274324Z",
     "start_time": "2019-10-01T22:57:17.902891Z"
    }
   },
   "outputs": [
    {
     "name": "stdout",
     "output_type": "stream",
     "text": [
      "  % Total    % Received % Xferd  Average Speed   Time    Time     Time  Current\n",
      "                                 Dload  Upload   Total   Spent    Left  Speed\n",
      "100 22721    0 22721    0     0  92738      0 --:--:-- --:--:-- --:--:-- 92738\n"
     ]
    }
   ],
   "source": [
    "!curl --header \"X-Forwarded-For: 192.168.0.99\" https://imslp.org/wiki/Special:ImagefromIndex/51737 > ../index.html"
   ]
  }
 ],
 "metadata": {
  "kernelspec": {
   "display_name": "Python 3",
   "language": "python",
   "name": "python3"
  },
  "language_info": {
   "codemirror_mode": {
    "name": "ipython",
    "version": 3
   },
   "file_extension": ".py",
   "mimetype": "text/x-python",
   "name": "python",
   "nbconvert_exporter": "python",
   "pygments_lexer": "ipython3",
   "version": "3.7.3"
  }
 },
 "nbformat": 4,
 "nbformat_minor": 2
}
