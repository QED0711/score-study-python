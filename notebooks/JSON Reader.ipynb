{
 "cells": [
  {
   "cell_type": "code",
   "execution_count": 23,
   "metadata": {
    "ExecuteTime": {
     "end_time": "2019-10-01T23:01:36.116900Z",
     "start_time": "2019-10-01T23:01:36.080740Z"
    }
   },
   "outputs": [],
   "source": [
    "import json\n",
    "import requests\n",
    "import pandas as pd"
   ]
  },
  {
   "cell_type": "code",
   "execution_count": 2,
   "metadata": {
    "ExecuteTime": {
     "end_time": "2019-10-01T22:06:21.867210Z",
     "start_time": "2019-10-01T22:06:21.751384Z"
    }
   },
   "outputs": [
    {
     "name": "stdout",
     "output_type": "stream",
     "text": [
      "ascarlatti.json  dvorak.json\t   meyerbeer.json\tschubert.json\r\n",
      "bartok.json\t elgar.json\t   monteverdi.json\tschumann.json\r\n",
      "beethoven.json\t faure.json\t   morley.json\t\tschutz.json\r\n",
      "bellini.json\t franck.json\t   mozart.json\t\tscriabin.json\r\n",
      "berg.json\t frescobaldi.json  mussorgsky.json\tsibelius.json\r\n",
      "berlioz.json\t gabrieli.json\t   ockeghem.json\tsmetana.json\r\n",
      "binchois.json\t gesualdo.json\t   offenbach.json\tstamitz.json\r\n",
      "bizet.json\t gibbons.json\t   paganini.json\tstravinsky.json\r\n",
      "borodin.json\t gluck.json\t   palestrina.json\ttallis.json\r\n",
      "brahms.json\t gounod.json\t   pergolesi.json\ttaverner.json\r\n",
      "bruckner.json\t grieg.json\t   perotin.json\t\ttchaikovsky.json\r\n",
      "byrd.json\t handel.json\t   praetorius.json\ttelemann.json\r\n",
      "caccini.json\t haydn.json\t   prokofiev.json\tvarese.json\r\n",
      "chopin.json\t hindemith.json    puccini.json\t\tvaughanwilliams.json\r\n",
      "corelli.json\t holst.json\t   purcell.json\t\tverdi.json\r\n",
      "couperin.json\t ives.json\t   rachmaninoff.json\tvictoria.json\r\n",
      "cpebach.json\t josquin.json\t   rameau.json\t\tvivaldi.json\r\n",
      "debussy.json\t jsbach.json\t   ravel.json\t\twagner.json\r\n",
      "devitry.json\t lassus.json\t   rimskykorsakov.json\twebern.json\r\n",
      "donizetti.json\t liszt.json\t   rossini.json\t\tweelkes.json\r\n",
      "dowland.json\t lully.json\t   rstrauss.json\twolf.json\r\n",
      "dscarlatti.json  machaut.json\t   saintsaens.json\r\n",
      "dufay.json\t mahler.json\t   satie.json\r\n",
      "dunstable.json\t mendelssohn.json  schoenberg.json\r\n"
     ]
    }
   ],
   "source": [
    "!ls ../json\n"
   ]
  },
  {
   "cell_type": "code",
   "execution_count": 5,
   "metadata": {
    "ExecuteTime": {
     "end_time": "2019-10-01T22:07:13.800112Z",
     "start_time": "2019-10-01T22:07:13.795939Z"
    }
   },
   "outputs": [],
   "source": [
    "with open(\"../json/beethoven.json\", \"r\") as file:\n",
    "    data = json.load(file)"
   ]
  },
  {
   "cell_type": "code",
   "execution_count": 8,
   "metadata": {
    "ExecuteTime": {
     "end_time": "2019-10-01T22:09:41.529593Z",
     "start_time": "2019-10-01T22:09:41.523708Z"
    }
   },
   "outputs": [
    {
     "data": {
      "text/plain": [
       "['https://imslp.org/wiki/Special:ImagefromIndex/74038',\n",
       " 'https://imslp.org/wiki/Special:ImagefromIndex/319015']"
      ]
     },
     "execution_count": 8,
     "metadata": {},
     "output_type": "execute_result"
    }
   ],
   "source": [
    "composer_df = pd.DataFrame(data)\n",
    "composer_df.iloc[0].scores"
   ]
  },
  {
   "cell_type": "code",
   "execution_count": 19,
   "metadata": {
    "ExecuteTime": {
     "end_time": "2019-10-01T22:18:12.239355Z",
     "start_time": "2019-10-01T22:18:12.233568Z"
    }
   },
   "outputs": [
    {
     "data": {
      "text/plain": [
       "{'composer': 'Beethoven, Ludwig van',\n",
       " 'date': '1820',\n",
       " 'scores': ['https://imslp.org/wiki/Special:ImagefromIndex/74038',\n",
       "  'https://imslp.org/wiki/Special:ImagefromIndex/319015'],\n",
       " 'tags': ['Canons', 'For 3 voices', 'For unaccompanied voices'],\n",
       " 'title': 'Abbé Stadler, WoO 178',\n",
       " 'score_ids': [74038, 319015]}"
      ]
     },
     "execution_count": 19,
     "metadata": {},
     "output_type": "execute_result"
    }
   ],
   "source": [
    "composer_df['score_ids'] = composer_df.scores.apply(lambda score_lst: [int(x.split(\"/\")[-1]) for x in score_lst])\n",
    "\n",
    "composer_df.iloc[0].to_dict()"
   ]
  },
  {
   "cell_type": "code",
   "execution_count": 29,
   "metadata": {
    "ExecuteTime": {
     "end_time": "2019-10-01T23:25:14.344900Z",
     "start_time": "2019-10-01T23:25:13.900045Z"
    }
   },
   "outputs": [],
   "source": [
    "content = requests.get(\"https://imslp.org/wiki/Special:IMSLPDisclaimerAccept/51737\", headers={\"X-Forwarded-For\": \"24.18.100.31\"}).content\n",
    "\n",
    "with open(\"../index.html\", \"w\") as file:\n",
    "    file.write(content.decode(\"utf-8\"))"
   ]
  },
  {
   "cell_type": "code",
   "execution_count": 34,
   "metadata": {
    "ExecuteTime": {
     "end_time": "2019-10-01T23:39:01.781898Z",
     "start_time": "2019-10-01T23:39:01.776910Z"
    }
   },
   "outputs": [
    {
     "data": {
      "text/plain": [
       "<Response [200]>"
      ]
     },
     "execution_count": 34,
     "metadata": {},
     "output_type": "execute_result"
    }
   ],
   "source": [
    "requests.get(\"http://127.0.0.1:8080\", headers={\"X-Forwarded-For\": \"24.18.100.31\"})"
   ]
  },
  {
   "cell_type": "code",
   "execution_count": 22,
   "metadata": {
    "ExecuteTime": {
     "end_time": "2019-10-01T22:57:18.274324Z",
     "start_time": "2019-10-01T22:57:17.902891Z"
    }
   },
   "outputs": [
    {
     "name": "stdout",
     "output_type": "stream",
     "text": [
      "  % Total    % Received % Xferd  Average Speed   Time    Time     Time  Current\n",
      "                                 Dload  Upload   Total   Spent    Left  Speed\n",
      "100 22721    0 22721    0     0  92738      0 --:--:-- --:--:-- --:--:-- 92738\n"
     ]
    }
   ],
   "source": [
    "!curl --header \"X-Forwarded-For: 192.168.0.99\" https://imslp.org/wiki/Special:ImagefromIndex/51737 > ../index.html"
   ]
  }
 ],
 "metadata": {
  "kernelspec": {
   "display_name": "Python 3",
   "language": "python",
   "name": "python3"
  },
  "language_info": {
   "codemirror_mode": {
    "name": "ipython",
    "version": 3
   },
   "file_extension": ".py",
   "mimetype": "text/x-python",
   "name": "python",
   "nbconvert_exporter": "python",
   "pygments_lexer": "ipython3",
   "version": "3.7.3"
  }
 },
 "nbformat": 4,
 "nbformat_minor": 2
}
