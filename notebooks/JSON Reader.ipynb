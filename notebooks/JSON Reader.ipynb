{
 "cells": [
  {
   "cell_type": "code",
   "execution_count": 1,
   "metadata": {
    "ExecuteTime": {
     "end_time": "2019-10-07T08:54:49.688455Z",
     "start_time": "2019-10-07T08:54:49.026346Z"
    }
   },
   "outputs": [],
   "source": [
    "%load_ext autoreload\n",
    "%autoreload 1\n",
    "\n",
    "import sys\n",
    "\n",
    "sys.path.append(\"../utils/\")\n",
    "\n",
    "import os\n",
    "import json\n",
    "import pdb\n",
    "from bs4 import BeautifulSoup\n",
    "import time\n",
    "import requests\n",
    "import pandas as pd\n",
    "\n",
    "from work_crawler import save_to_mlab\n",
    "\n",
    "%aimport work_crawler"
   ]
  },
  {
   "cell_type": "code",
   "execution_count": 2,
   "metadata": {
    "ExecuteTime": {
     "end_time": "2019-10-07T08:54:50.939582Z",
     "start_time": "2019-10-07T08:54:50.937062Z"
    }
   },
   "outputs": [],
   "source": [
    "for root, dirs, files in os.walk(\"../json\"):\n",
    "    composers = [file.split(\".\")[0] for file in files]\n",
    "    "
   ]
  },
  {
   "cell_type": "code",
   "execution_count": 3,
   "metadata": {
    "ExecuteTime": {
     "end_time": "2019-10-07T08:55:04.800079Z",
     "start_time": "2019-10-07T08:55:04.794008Z"
    },
    "scrolled": true
   },
   "outputs": [
    {
     "data": {
      "text/plain": [
       "['ascarlatti',\n",
       " 'bartok',\n",
       " 'beethoven',\n",
       " 'bellini',\n",
       " 'berg',\n",
       " 'berlioz',\n",
       " 'binchois',\n",
       " 'bizet',\n",
       " 'borodin',\n",
       " 'brahms',\n",
       " 'bruckner',\n",
       " 'byrd',\n",
       " 'caccini',\n",
       " 'chopin',\n",
       " 'corelli',\n",
       " 'couperin',\n",
       " 'cpebach',\n",
       " 'debussy',\n",
       " 'devitry',\n",
       " 'donizetti',\n",
       " 'dowland',\n",
       " 'dscarlatti',\n",
       " 'dufay',\n",
       " 'dunstable',\n",
       " 'dvorak',\n",
       " 'elgar',\n",
       " 'faure',\n",
       " 'franck',\n",
       " 'frescobaldi',\n",
       " 'gabrieli',\n",
       " 'gesualdo',\n",
       " 'gibbons',\n",
       " 'gluck',\n",
       " 'gounod',\n",
       " 'grieg',\n",
       " 'handel',\n",
       " 'haydn',\n",
       " 'hindemith',\n",
       " 'holst',\n",
       " 'ives',\n",
       " 'josquin',\n",
       " 'jsbach',\n",
       " 'lassus',\n",
       " 'liszt',\n",
       " 'lully',\n",
       " 'machaut',\n",
       " 'mahler',\n",
       " 'mendelssohn',\n",
       " 'meyerbeer',\n",
       " 'monteverdi',\n",
       " 'morley',\n",
       " 'mozart',\n",
       " 'mussorgsky',\n",
       " 'ockeghem',\n",
       " 'offenbach',\n",
       " 'paganini',\n",
       " 'palestrina',\n",
       " 'pergolesi',\n",
       " 'perotin',\n",
       " 'praetorius',\n",
       " 'prokofiev',\n",
       " 'puccini',\n",
       " 'purcell',\n",
       " 'rachmaninoff',\n",
       " 'rameau',\n",
       " 'ravel',\n",
       " 'rimskykorsakov',\n",
       " 'rossini',\n",
       " 'rstrauss',\n",
       " 'saintsaens',\n",
       " 'satie',\n",
       " 'schoenberg',\n",
       " 'schubert',\n",
       " 'schumann',\n",
       " 'schutz',\n",
       " 'scriabin',\n",
       " 'sibelius',\n",
       " 'smetana',\n",
       " 'stamitz',\n",
       " 'stravinsky',\n",
       " 'tallis',\n",
       " 'taverner',\n",
       " 'tchaikovsky',\n",
       " 'telemann',\n",
       " 'varese',\n",
       " 'vaughanwilliams',\n",
       " 'verdi',\n",
       " 'victoria',\n",
       " 'vivaldi',\n",
       " 'wagner',\n",
       " 'webern',\n",
       " 'weelkes',\n",
       " 'wolf']"
      ]
     },
     "execution_count": 3,
     "metadata": {},
     "output_type": "execute_result"
    }
   ],
   "source": [
    "composers = sorted(composers)\n",
    "composers"
   ]
  },
  {
   "cell_type": "code",
   "execution_count": 5,
   "metadata": {
    "ExecuteTime": {
     "end_time": "2019-10-06T22:57:06.407905Z",
     "start_time": "2019-10-06T22:57:06.403973Z"
    }
   },
   "outputs": [],
   "source": [
    "def is_bytes(resp):\n",
    "    try:\n",
    "        resp.content.decode()\n",
    "        return True\n",
    "    except:\n",
    "        return False"
   ]
  },
  {
   "cell_type": "code",
   "execution_count": 9,
   "metadata": {
    "ExecuteTime": {
     "end_time": "2019-10-06T22:58:04.544385Z",
     "start_time": "2019-10-06T22:58:04.539788Z"
    }
   },
   "outputs": [
    {
     "data": {
      "text/plain": [
       "['rossini',\n",
       " 'schubert',\n",
       " 'dowland',\n",
       " 'machaut',\n",
       " 'rachmaninoff',\n",
       " 'frescobaldi',\n",
       " 'dscarlatti',\n",
       " 'binchois',\n",
       " 'weelkes',\n",
       " 'ockeghem',\n",
       " 'couperin',\n",
       " 'webern',\n",
       " 'smetana',\n",
       " 'bellini',\n",
       " 'puccini',\n",
       " 'verdi',\n",
       " 'dvorak',\n",
       " 'liszt',\n",
       " 'purcell',\n",
       " 'wolf',\n",
       " 'corelli',\n",
       " 'dunstable',\n",
       " 'varese',\n",
       " 'debussy',\n",
       " 'holst',\n",
       " 'bartok',\n",
       " 'ravel',\n",
       " 'lully',\n",
       " 'schutz',\n",
       " 'sibelius',\n",
       " 'caccini',\n",
       " 'haydn',\n",
       " 'rameau',\n",
       " 'satie',\n",
       " 'tchaikovsky',\n",
       " 'borodin',\n",
       " 'mahler',\n",
       " 'rimskykorsakov',\n",
       " 'mendelssohn',\n",
       " 'chopin',\n",
       " 'taverner',\n",
       " 'mozart',\n",
       " 'monteverdi',\n",
       " 'stamitz',\n",
       " 'perotin',\n",
       " 'bruckner',\n",
       " 'berlioz',\n",
       " 'vivaldi',\n",
       " 'schoenberg',\n",
       " 'handel',\n",
       " 'schumann',\n",
       " 'saintsaens',\n",
       " 'faure',\n",
       " 'beethoven',\n",
       " 'wagner',\n",
       " 'palestrina',\n",
       " 'grieg',\n",
       " 'bizet',\n",
       " 'brahms',\n",
       " 'mussorgsky',\n",
       " 'gibbons',\n",
       " 'jsbach',\n",
       " 'cpebach',\n",
       " 'devitry',\n",
       " 'pergolesi',\n",
       " 'praetorius',\n",
       " 'rstrauss',\n",
       " 'meyerbeer',\n",
       " 'offenbach',\n",
       " 'gesualdo',\n",
       " 'gabrieli',\n",
       " 'ascarlatti',\n",
       " 'donizetti',\n",
       " 'stravinsky',\n",
       " 'telemann',\n",
       " 'vaughanwilliams',\n",
       " 'franck',\n",
       " 'lassus',\n",
       " 'elgar',\n",
       " 'tallis',\n",
       " 'victoria',\n",
       " 'gluck',\n",
       " 'dufay',\n",
       " 'prokofiev',\n",
       " 'hindemith',\n",
       " 'morley',\n",
       " 'josquin',\n",
       " 'gounod']"
      ]
     },
     "execution_count": 9,
     "metadata": {},
     "output_type": "execute_result"
    }
   ],
   "source": [
    "def json_range(composers, start=None, stop=None):\n",
    "    start_index = 0\n",
    "    stop_index = -1\n",
    "    \n",
    "    if start:\n",
    "        start_index = composers.index(start)\n",
    "        \n",
    "    if stop:\n",
    "        stop_index = composers.index(stop) + 1\n",
    "        \n",
    "    return composers[start_index:stop_index]\n",
    "\n",
    "json_range(composers, start=\"rossini\")\n",
    "        "
   ]
  },
  {
   "cell_type": "code",
   "execution_count": 4,
   "metadata": {
    "ExecuteTime": {
     "end_time": "2019-10-04T23:29:33.009375Z",
     "start_time": "2019-10-04T23:29:32.992698Z"
    }
   },
   "outputs": [],
   "source": [
    "class ProcessComposer():\n",
    "    \n",
    "    def __init__(self, composer):\n",
    "        composer_json = self._get_json(composer)\n",
    "        self._create_composer_df(composer_json)\n",
    "    \n",
    "    def _get_json(self, composer):\n",
    "        with open(f\"../json/{composer}.json\", \"r\") as file:\n",
    "            composer_json = json.load(file)\n",
    "        return composer_json\n",
    "    \n",
    "    def _create_composer_df(self, composer_json):\n",
    "        composer_df = pd.DataFrame(composer_json)\n",
    "        composer_df['score_ids'] = composer_df.scores.apply(lambda score_lst: [int(x.split(\"/\")[-1]) for x in score_lst])\n",
    "        self.composer_df = composer_df\n",
    "       \n",
    "    def _process_work(self, work):\n",
    "        pdfs = []\n",
    "        for score_id in work.score_ids:\n",
    "            resp = requests.get(f\"https://imslp.org/wiki/Special:IMSLPDisclaimerAccept/{score_id}\", headers={\"X-Forwarded-For\": \"24.18.100.31\"})\n",
    "            try:\n",
    "#                 if is_bytes(resp):\n",
    "#                     print(\"bytes\")\n",
    "#                     pdfs.append(resp.url)\n",
    "#                 else:\n",
    "#                 print(\"string\")\n",
    "                soup = BeautifulSoup(resp.content)\n",
    "                pdfs.append(soup.find(\"span\", {\"id\":\"sm_dl_wait\"}).get(\"data-id\"))\n",
    "            except:                \n",
    "                time.sleep(2)\n",
    "                continue\n",
    "            \n",
    "            time.sleep(2)\n",
    "    \n",
    "        return pdfs\n",
    "    \n",
    "    def _save_work(self, work_dict):\n",
    "        save_to_mlab(work_dict)\n",
    "    \n",
    "    def run_work_retrieval(self, start=0, stop=-1):\n",
    "        for i, row in self.composer_df[start:stop].iterrows():\n",
    "            pdfs = self._process_work(row)\n",
    "            row_dict = row.to_dict()\n",
    "            \n",
    "            row_dict[\"pdfs\"] = pdfs\n",
    "            print(row_dict)\n",
    "            if len(pdfs) > 0:\n",
    "                self._save_work(row_dict)\n",
    "            "
   ]
  },
  {
   "cell_type": "code",
   "execution_count": 6,
   "metadata": {
    "ExecuteTime": {
     "end_time": "2019-10-04T23:29:39.983456Z",
     "start_time": "2019-10-04T23:29:39.971518Z"
    }
   },
   "outputs": [],
   "source": [
    "cp = ProcessComposer(\"jsbach\")\n",
    "# cp.composer_df\n"
   ]
  },
  {
   "cell_type": "code",
   "execution_count": 7,
   "metadata": {
    "ExecuteTime": {
     "end_time": "2019-10-04T23:29:44.439102Z",
     "start_time": "2019-10-04T23:29:41.752777Z"
    }
   },
   "outputs": [
    {
     "name": "stdout",
     "output_type": "stream",
     "text": [
      "{'composer': 'Bach, Johann Sebastian', 'date': '1715', 'scores': ['https://imslp.org/wiki/Special:ImagefromIndex/01424'], 'tags': ['Sacred cantatas', 'Cantatas', 'Religious works', 'For 4 voices, mixed chorus, orchestra', 'For voices and chorus with orchestra'], 'title': 'Ach! ich sehe, itzt, da ich zur Hochzeit gehe, BWV 162', 'score_ids': [1424], 'pdfs': ['http://ks.imslp.net/files/imglnks/usimg/7/77/IMSLP01424-BWV0162.pdf']}\n"
     ]
    }
   ],
   "source": [
    "cp.run_work_retrieval(7, 8)"
   ]
  }
 ],
 "metadata": {
  "kernelspec": {
   "display_name": "Python 3",
   "language": "python",
   "name": "python3"
  },
  "language_info": {
   "codemirror_mode": {
    "name": "ipython",
    "version": 3
   },
   "file_extension": ".py",
   "mimetype": "text/x-python",
   "name": "python",
   "nbconvert_exporter": "python",
   "pygments_lexer": "ipython3",
   "version": "3.7.3"
  }
 },
 "nbformat": 4,
 "nbformat_minor": 2
}
