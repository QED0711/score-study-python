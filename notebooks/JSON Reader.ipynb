{
 "cells": [
  {
   "cell_type": "code",
   "execution_count": 1,
   "metadata": {
    "ExecuteTime": {
     "end_time": "2019-10-04T23:29:31.570684Z",
     "start_time": "2019-10-04T23:29:31.203616Z"
    }
   },
   "outputs": [],
   "source": [
    "%load_ext autoreload\n",
    "%autoreload 1\n",
    "\n",
    "import sys\n",
    "\n",
    "sys.path.append(\"../utils/\")\n",
    "\n",
    "import os\n",
    "import json\n",
    "import pdb\n",
    "from bs4 import BeautifulSoup\n",
    "import time\n",
    "import requests\n",
    "import pandas as pd\n",
    "\n",
    "from work_crawler import save_to_mlab\n",
    "\n",
    "%aimport work_crawler"
   ]
  },
  {
   "cell_type": "code",
   "execution_count": 9,
   "metadata": {
    "ExecuteTime": {
     "end_time": "2019-10-04T23:40:20.230447Z",
     "start_time": "2019-10-04T23:40:20.226837Z"
    }
   },
   "outputs": [],
   "source": [
    "for root, dirs, files in os.walk(\"../json\"):\n",
    "    composers = [file.split(\".\")[0] for file in files]\n",
    "    "
   ]
  },
  {
   "cell_type": "code",
   "execution_count": 10,
   "metadata": {
    "ExecuteTime": {
     "end_time": "2019-10-04T23:40:23.330046Z",
     "start_time": "2019-10-04T23:40:23.326081Z"
    },
    "scrolled": true
   },
   "outputs": [
    {
     "data": {
      "text/plain": [
       "['cpebach',\n",
       " 'puccini',\n",
       " 'schutz',\n",
       " 'gluck',\n",
       " 'ravel',\n",
       " 'mendelssohn',\n",
       " 'gabrieli',\n",
       " 'rameau',\n",
       " 'ives',\n",
       " 'wagner',\n",
       " 'gibbons',\n",
       " 'smetana',\n",
       " 'donizetti',\n",
       " 'chopin',\n",
       " 'ockeghem',\n",
       " 'morley',\n",
       " 'palestrina',\n",
       " 'gounod',\n",
       " 'berlioz',\n",
       " 'mussorgsky',\n",
       " 'prokofiev',\n",
       " 'rimskykorsakov',\n",
       " 'couperin',\n",
       " 'borodin',\n",
       " 'dscarlatti',\n",
       " 'byrd',\n",
       " 'stamitz',\n",
       " 'sibelius',\n",
       " 'jsbach',\n",
       " 'lully',\n",
       " 'wolf',\n",
       " 'dufay',\n",
       " 'faure',\n",
       " 'schumann',\n",
       " 'vivaldi',\n",
       " 'saintsaens',\n",
       " 'offenbach',\n",
       " 'elgar',\n",
       " 'varese',\n",
       " 'franck',\n",
       " 'schubert',\n",
       " 'ascarlatti',\n",
       " 'mozart',\n",
       " 'grieg',\n",
       " 'weelkes',\n",
       " 'rstrauss',\n",
       " 'dowland',\n",
       " 'tallis',\n",
       " 'caccini',\n",
       " 'telemann',\n",
       " 'praetorius',\n",
       " 'haydn',\n",
       " 'bartok',\n",
       " 'meyerbeer',\n",
       " 'brahms',\n",
       " 'frescobaldi',\n",
       " 'machaut',\n",
       " 'lassus',\n",
       " 'rossini',\n",
       " 'mahler',\n",
       " 'tchaikovsky',\n",
       " 'debussy',\n",
       " 'rachmaninoff',\n",
       " 'hindemith',\n",
       " 'bizet',\n",
       " 'binchois',\n",
       " 'handel',\n",
       " 'monteverdi',\n",
       " 'bruckner',\n",
       " 'josquin',\n",
       " 'purcell',\n",
       " 'devitry',\n",
       " 'victoria',\n",
       " 'berg',\n",
       " 'satie',\n",
       " 'pergolesi',\n",
       " 'schoenberg',\n",
       " 'liszt',\n",
       " 'beethoven',\n",
       " 'scriabin',\n",
       " 'vaughanwilliams',\n",
       " 'paganini',\n",
       " 'holst',\n",
       " 'stravinsky',\n",
       " 'gesualdo',\n",
       " 'taverner',\n",
       " 'corelli',\n",
       " 'dunstable',\n",
       " 'webern',\n",
       " 'verdi',\n",
       " 'bellini',\n",
       " 'dvorak',\n",
       " 'perotin']"
      ]
     },
     "execution_count": 10,
     "metadata": {},
     "output_type": "execute_result"
    }
   ],
   "source": [
    "composers"
   ]
  },
  {
   "cell_type": "code",
   "execution_count": 3,
   "metadata": {
    "ExecuteTime": {
     "end_time": "2019-10-04T23:29:32.125182Z",
     "start_time": "2019-10-04T23:29:32.121484Z"
    }
   },
   "outputs": [],
   "source": [
    "def is_bytes(resp):\n",
    "    try:\n",
    "        resp.content.decode()\n",
    "        return True\n",
    "    except:\n",
    "        return False"
   ]
  },
  {
   "cell_type": "code",
   "execution_count": 4,
   "metadata": {
    "ExecuteTime": {
     "end_time": "2019-10-04T23:29:33.009375Z",
     "start_time": "2019-10-04T23:29:32.992698Z"
    }
   },
   "outputs": [],
   "source": [
    "class ProcessComposer():\n",
    "    \n",
    "    def __init__(self, composer):\n",
    "        composer_json = self._get_json(composer)\n",
    "        self._create_composer_df(composer_json)\n",
    "    \n",
    "    def _get_json(self, composer):\n",
    "        with open(f\"../json/{composer}.json\", \"r\") as file:\n",
    "            composer_json = json.load(file)\n",
    "        return composer_json\n",
    "    \n",
    "    def _create_composer_df(self, composer_json):\n",
    "        composer_df = pd.DataFrame(composer_json)\n",
    "        composer_df['score_ids'] = composer_df.scores.apply(lambda score_lst: [int(x.split(\"/\")[-1]) for x in score_lst])\n",
    "        self.composer_df = composer_df\n",
    "       \n",
    "    def _process_work(self, work):\n",
    "        pdfs = []\n",
    "        for score_id in work.score_ids:\n",
    "            resp = requests.get(f\"https://imslp.org/wiki/Special:IMSLPDisclaimerAccept/{score_id}\", headers={\"X-Forwarded-For\": \"24.18.100.31\"})\n",
    "            try:\n",
    "#                 if is_bytes(resp):\n",
    "#                     print(\"bytes\")\n",
    "#                     pdfs.append(resp.url)\n",
    "#                 else:\n",
    "#                 print(\"string\")\n",
    "                soup = BeautifulSoup(resp.content)\n",
    "                pdfs.append(soup.find(\"span\", {\"id\":\"sm_dl_wait\"}).get(\"data-id\"))\n",
    "            except:                \n",
    "                time.sleep(2)\n",
    "                continue\n",
    "            \n",
    "            time.sleep(2)\n",
    "    \n",
    "        return pdfs\n",
    "    \n",
    "    def _save_work(self, work_dict):\n",
    "        save_to_mlab(work_dict)\n",
    "    \n",
    "    def run_work_retrieval(self, start=0, stop=-1):\n",
    "        for i, row in self.composer_df[start:stop].iterrows():\n",
    "            pdfs = self._process_work(row)\n",
    "            row_dict = row.to_dict()\n",
    "            \n",
    "            row_dict[\"pdfs\"] = pdfs\n",
    "            print(row_dict)\n",
    "            if len(pdfs) > 0:\n",
    "                self._save_work(row_dict)\n",
    "            "
   ]
  },
  {
   "cell_type": "code",
   "execution_count": 6,
   "metadata": {
    "ExecuteTime": {
     "end_time": "2019-10-04T23:29:39.983456Z",
     "start_time": "2019-10-04T23:29:39.971518Z"
    }
   },
   "outputs": [],
   "source": [
    "cp = ProcessComposer(\"jsbach\")\n",
    "# cp.composer_df\n"
   ]
  },
  {
   "cell_type": "code",
   "execution_count": 7,
   "metadata": {
    "ExecuteTime": {
     "end_time": "2019-10-04T23:29:44.439102Z",
     "start_time": "2019-10-04T23:29:41.752777Z"
    }
   },
   "outputs": [
    {
     "name": "stdout",
     "output_type": "stream",
     "text": [
      "{'composer': 'Bach, Johann Sebastian', 'date': '1715', 'scores': ['https://imslp.org/wiki/Special:ImagefromIndex/01424'], 'tags': ['Sacred cantatas', 'Cantatas', 'Religious works', 'For 4 voices, mixed chorus, orchestra', 'For voices and chorus with orchestra'], 'title': 'Ach! ich sehe, itzt, da ich zur Hochzeit gehe, BWV 162', 'score_ids': [1424], 'pdfs': ['http://ks.imslp.net/files/imglnks/usimg/7/77/IMSLP01424-BWV0162.pdf']}\n"
     ]
    }
   ],
   "source": [
    "cp.run_work_retrieval(7, 8)"
   ]
  },
  {
   "cell_type": "code",
   "execution_count": null,
   "metadata": {
    "ExecuteTime": {
     "end_time": "2019-10-03T23:41:35.876052Z",
     "start_time": "2019-10-03T23:41:28.653380Z"
    }
   },
   "outputs": [],
   "source": [
    "work = cp.composer_df.iloc[847]\n",
    "print(cp.process_work(work))"
   ]
  },
  {
   "cell_type": "code",
   "execution_count": null,
   "metadata": {
    "ExecuteTime": {
     "end_time": "2019-10-03T00:47:35.039328Z",
     "start_time": "2019-10-03T00:47:35.003988Z"
    }
   },
   "outputs": [],
   "source": [
    "def process_json(json_files):\n",
    "    for file in json_files:\n",
    "        with open(f\"../json/{file}\", \"r\") as composer:\n",
    "            composer_data = json.load(composer)\n",
    "\n",
    "        composer_df = pd.DataFrame(composer_data)\n",
    "        composer_df['score_ids'] = composer_df.scores.apply(lambda score_lst: [int(x.split(\"/\")[-1]) for x in score_lst])\n",
    "\n",
    "        for ids in composer_df.score_ids:\n",
    "            for score_id in ids:\n",
    "                print(score_id)\n",
    "                try:\n",
    "                    content = requests.get(f\"https://imslp.org/wiki/Special:IMSLPDisclaimerAccept/{score_id}\", headers={\"X-Forwarded-For\": \"24.18.100.31\"}).content\n",
    "\n",
    "                with open(\"../index.html\", \"w\") as file:\n",
    "                    file.write(content.decode(\"utf-8\"))\n",
    "                except:\n",
    "                    time.sleep(2)\n",
    "                    continue\n",
    "                time.sleep(2)\n",
    "        break\n",
    "        \n",
    "process_json(json_files)"
   ]
  },
  {
   "cell_type": "code",
   "execution_count": null,
   "metadata": {
    "ExecuteTime": {
     "end_time": "2019-10-01T22:07:13.800112Z",
     "start_time": "2019-10-01T22:07:13.795939Z"
    }
   },
   "outputs": [],
   "source": [
    "with open(\"../json/beethoven.json\", \"r\") as file:\n",
    "    data = json.load(file)"
   ]
  },
  {
   "cell_type": "code",
   "execution_count": null,
   "metadata": {
    "ExecuteTime": {
     "end_time": "2019-10-01T22:09:41.529593Z",
     "start_time": "2019-10-01T22:09:41.523708Z"
    }
   },
   "outputs": [],
   "source": [
    "composer_df = pd.DataFrame(data)\n",
    "composer_df.iloc[0].scores"
   ]
  },
  {
   "cell_type": "code",
   "execution_count": null,
   "metadata": {
    "ExecuteTime": {
     "end_time": "2019-10-01T22:18:12.239355Z",
     "start_time": "2019-10-01T22:18:12.233568Z"
    }
   },
   "outputs": [],
   "source": [
    "composer_df['score_ids'] = composer_df.scores.apply(lambda score_lst: [int(x.split(\"/\")[-1]) for x in score_lst])\n",
    "\n",
    "composer_df.iloc[0].to_dict()"
   ]
  },
  {
   "cell_type": "code",
   "execution_count": null,
   "metadata": {
    "ExecuteTime": {
     "end_time": "2019-10-01T23:25:14.344900Z",
     "start_time": "2019-10-01T23:25:13.900045Z"
    }
   },
   "outputs": [],
   "source": [
    "content = requests.get(\"https://imslp.org/wiki/Special:IMSLPDisclaimerAccept/51737\", headers={\"X-Forwarded-For\": \"24.18.100.31\"}).content\n",
    "\n",
    "with open(\"../index.html\", \"w\") as file:\n",
    "    file.write(content.decode(\"utf-8\"))"
   ]
  },
  {
   "cell_type": "code",
   "execution_count": null,
   "metadata": {
    "ExecuteTime": {
     "end_time": "2019-10-01T23:39:01.781898Z",
     "start_time": "2019-10-01T23:39:01.776910Z"
    }
   },
   "outputs": [],
   "source": [
    "requests.get(\"http://127.0.0.1:8080\", headers={\"X-Forwarded-For\": \"24.18.100.31\"})"
   ]
  },
  {
   "cell_type": "code",
   "execution_count": null,
   "metadata": {
    "ExecuteTime": {
     "end_time": "2019-10-01T22:57:18.274324Z",
     "start_time": "2019-10-01T22:57:17.902891Z"
    }
   },
   "outputs": [],
   "source": [
    "!curl --header \"X-Forwarded-For: 192.168.0.99\" https://imslp.org/wiki/Special:ImagefromIndex/51737 > ../index.html"
   ]
  }
 ],
 "metadata": {
  "kernelspec": {
   "display_name": "Python 3",
   "language": "python",
   "name": "python3"
  },
  "language_info": {
   "codemirror_mode": {
    "name": "ipython",
    "version": 3
   },
   "file_extension": ".py",
   "mimetype": "text/x-python",
   "name": "python",
   "nbconvert_exporter": "python",
   "pygments_lexer": "ipython3",
   "version": "3.7.3"
  }
 },
 "nbformat": 4,
 "nbformat_minor": 2
}
